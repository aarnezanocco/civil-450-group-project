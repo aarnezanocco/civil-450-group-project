{
 "cells": [
  {
   "cell_type": "code",
   "execution_count": 7,
   "metadata": {},
   "outputs": [],
   "source": [
    "import pandas as pd\n",
    "import numpy as np"
   ]
  },
  {
   "cell_type": "code",
   "execution_count": 8,
   "metadata": {},
   "outputs": [],
   "source": [
    "CUBE = pd.read_excel(\"CUBE\\Group 3-Cube.xlsx\")\n",
    "HOBO_low = pd.read_csv(\"HOBO\\Group3-Low.csv\", encoding=\"windows-1252\")\n",
    "HOBO_mid = pd.read_csv(\"HOBO\\Group3-Mid.csv\", encoding=\"windows-1252\")\n",
    "HOBO_top = pd.read_csv(\"HOBO\\Group3-Top.csv\", encoding=\"windows-1252\")"
   ]
  },
  {
   "cell_type": "code",
   "execution_count": 9,
   "metadata": {},
   "outputs": [
    {
     "name": "stdout",
     "output_type": "stream",
     "text": [
      "5373\n"
     ]
    },
    {
     "name": "stderr",
     "output_type": "stream",
     "text": [
      "C:\\Users\\aarne\\AppData\\Local\\Temp\\ipykernel_22244\\429395739.py:12: FutureWarning: 'S' is deprecated and will be removed in a future version, please use 's' instead.\n",
      "  time_range = pd.date_range(start=start_time, end=end_time, freq='1S')\n",
      "C:\\Users\\aarne\\AppData\\Local\\Temp\\ipykernel_22244\\429395739.py:21: FutureWarning: A value is trying to be set on a copy of a DataFrame or Series through chained assignment using an inplace method.\n",
      "The behavior will change in pandas 3.0. This inplace method will never work because the intermediate object on which we are setting values always behaves as a copy.\n",
      "\n",
      "For example, when doing 'df[col].method(value, inplace=True)', try using 'df.method({col: value}, inplace=True)' or df[col] = df[col].method(value) instead, to perform the operation inplace on the original object.\n",
      "\n",
      "\n",
      "  T_mrt [\"Mean Radiant Temperature (*C)\"].fillna(0, inplace=True)\n"
     ]
    }
   ],
   "source": [
    "T_mrt = CUBE[\"Mean Radiant Temperature (*C)\"]\n",
    "\n",
    "CUBE[\"Full DateTime\"] = pd.to_datetime(\n",
    "    pd.Timestamp.today().strftime(\"%Y-%m-%d\") + \" \" + CUBE.iloc[:, 1].astype(str)\n",
    ")\n",
    "# Convert time column to datetime before extracting min/max\n",
    "CUBE[\"Full DateTime\"] = pd.to_datetime(CUBE[\"Full DateTime\"])\n",
    "start_time = CUBE[\"Full DateTime\"].min()\n",
    "end_time = CUBE[\"Full DateTime\"].max()\n",
    "\n",
    "# Generate full second-by-second time range\n",
    "time_range = pd.date_range(start=start_time, end=end_time, freq='1S')\n",
    "full_time_df = pd.DataFrame({\"Full DateTime\": time_range})\n",
    "\n",
    "# Compute average temperature from HOBO sensors\n",
    "T_avg = (HOBO_low.iloc[:, 1] + HOBO_mid.iloc[:, 1] + HOBO_top.iloc[:, 1]) / 3\n",
    "\n",
    "# Extract Mean Radiant Temperature with Time\n",
    "T_mrt = CUBE[[\"Full DateTime\", \"Mean Radiant Temperature (*C)\"]]\n",
    "T_mrt = pd.merge(full_time_df, T_mrt, how=\"left\", on=\"Full DateTime\")\n",
    "T_mrt [\"Mean Radiant Temperature (*C)\"].fillna(0, inplace=True)\n",
    "\n",
    "T_avg = T_avg.reset_index(drop=True)\n",
    "T_mrt = T_mrt[\"Mean Radiant Temperature (*C)\"].reset_index(drop=True)\n",
    "HOBO_low = HOBO_low.reset_index(drop=True)\n",
    "\n",
    "T_op = []\n",
    "for i in range(T_avg.size):\n",
    "    air_speed = HOBO_low[\"Air_speed (m/s)\"][i]\n",
    "    if T_mrt[i] == 0:\n",
    "        continue\n",
    "    if air_speed < 0.2:\n",
    "        T_op.append((T_mrt[i] + T_avg[i]) / 2)\n",
    "    elif air_speed < 0.6:\n",
    "        T_op.append((0.4 * T_mrt[i] + 0.6 * T_avg[i]))\n",
    "    else:\n",
    "        T_op.append((0.3 * T_mrt[i] + 0.7 * T_avg[i]))\n",
    "print(len(T_op))\n"
   ]
  }
 ],
 "metadata": {
  "kernelspec": {
   "display_name": "Python 3",
   "language": "python",
   "name": "python3"
  },
  "language_info": {
   "codemirror_mode": {
    "name": "ipython",
    "version": 3
   },
   "file_extension": ".py",
   "mimetype": "text/x-python",
   "name": "python",
   "nbconvert_exporter": "python",
   "pygments_lexer": "ipython3",
   "version": "3.11.9"
  }
 },
 "nbformat": 4,
 "nbformat_minor": 4
}
