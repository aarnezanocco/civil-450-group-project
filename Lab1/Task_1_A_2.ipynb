{
 "cells": [
  {
   "cell_type": "code",
   "execution_count": 1,
   "id": "b2e0caff-e8b9-4aea-93bf-96fc1d10e845",
   "metadata": {
    "execution": {
     "iopub.execute_input": "2025-04-08T13:09:36.433292Z",
     "iopub.status.busy": "2025-04-08T13:09:36.431584Z",
     "iopub.status.idle": "2025-04-08T13:09:38.567576Z",
     "shell.execute_reply": "2025-04-08T13:09:38.565357Z",
     "shell.execute_reply.started": "2025-04-08T13:09:36.433185Z"
    }
   },
   "outputs": [],
   "source": [
    "import pandas as pd\n",
    "from matplotlib import pyplot as plt\n",
    "\n",
    "# Load the existing CSV file\n",
    "file_path = \"template-SI.csv\"  # Update the path if needed\n",
    "df = pd.read_csv(file_path)\n",
    "\n",
    "#plt.savefig('foo.png')"
   ]
  },
  {
   "cell_type": "code",
   "execution_count": 2,
   "id": "826a346f-f30a-44ac-a46a-fae5a86d2020",
   "metadata": {
    "execution": {
     "iopub.execute_input": "2025-04-08T13:09:38.570972Z",
     "iopub.status.busy": "2025-04-08T13:09:38.570450Z",
     "iopub.status.idle": "2025-04-08T13:09:39.608191Z",
     "shell.execute_reply": "2025-04-08T13:09:39.605455Z",
     "shell.execute_reply.started": "2025-04-08T13:09:38.570861Z"
    }
   },
   "outputs": [],
   "source": [
    "# Import Air temperature and Air speed from \"HOBO/Group3-Low.csv\"\n",
    "hobo_low = \"HOBO/Group3-Low.csv\"\n",
    "#hobo_df = pd.read_csv(hobo_file)\n",
    "hobo_df_low = pd.read_csv(hobo_low, encoding=\"latin1\")  # Try \"ISO-8859-1\" or \"cp1252\" if needed\n",
    "\n",
    "hobo_mid = \"HOBO/Group3-Mid.csv\"\n",
    "#hobo_df = pd.read_csv(hobo_file)\n",
    "hobo_df_mid = pd.read_csv(hobo_mid, encoding=\"latin1\")  # Try \"ISO-8859-1\" or \"cp1252\" if needed\n",
    "\n",
    "hobo_top = \"HOBO/Group3-Top.csv\"\n",
    "#hobo_df = pd.read_csv(hobo_file)\n",
    "hobo_df_top = pd.read_csv(hobo_top, encoding=\"latin1\")  # Try \"ISO-8859-1\" or \"cp1252\" if needed\n",
    "\n",
    "# Import Relative Humidity values from \"Relative Humidity.csv\"\n",
    "relative_humidity_file = \"Relative Humidity.xlsx\"  # Update the file name\n",
    "rh_df = pd.read_excel(relative_humidity_file)  # Read the Excel file\n",
    "\n",
    "\n"
   ]
  },
  {
   "cell_type": "code",
   "execution_count": 3,
   "id": "0bfb074e-981d-4960-bfe7-a6494bd99ca4",
   "metadata": {
    "execution": {
     "iopub.execute_input": "2025-04-08T13:09:39.613536Z",
     "iopub.status.busy": "2025-04-08T13:09:39.612250Z",
     "iopub.status.idle": "2025-04-08T13:09:39.850689Z",
     "shell.execute_reply": "2025-04-08T13:09:39.847259Z",
     "shell.execute_reply.started": "2025-04-08T13:09:39.613470Z"
    }
   },
   "outputs": [],
   "source": [
    "# Import Mean Radiant Temperature\n",
    "results_low = \"results_LOW.csv\"\n",
    "low_df = pd.read_csv(results_low, encoding=\"latin1\")\n",
    "\n",
    "results_mid = \"results_MID.csv\"\n",
    "mid_df = pd.read_csv(results_mid, encoding=\"latin1\")\n",
    "\n",
    "results_top = \"results_TOP.csv\"\n",
    "top_df = pd.read_csv(results_top, encoding=\"latin1\")"
   ]
  },
  {
   "cell_type": "code",
   "execution_count": 4,
   "id": "5480ca34-7f5e-44e1-96c0-3360ae7ef981",
   "metadata": {
    "execution": {
     "iopub.execute_input": "2025-04-08T13:09:41.551427Z",
     "iopub.status.busy": "2025-04-08T13:09:41.550549Z",
     "iopub.status.idle": "2025-04-08T13:09:41.590212Z",
     "shell.execute_reply": "2025-04-08T13:09:41.588093Z",
     "shell.execute_reply.started": "2025-04-08T13:09:41.551356Z"
    }
   },
   "outputs": [],
   "source": [
    "# Determine the max number of rows required\n",
    "#max_rows = max(hobo_df_low.count(), hobo_df_mid.count(), hobo_df_top.count(), rh_df.count())\n",
    "max_rows = max(hobo_df_low.count().max(), \n",
    "               hobo_df_mid.count().max(), \n",
    "               hobo_df_top.count().max(), \n",
    "               rh_df.count().max(), low_df.count().max(), mid_df.count().max(), top_df.count().max())\n",
    "\n",
    "# Expand df to match max_rows\n",
    "df = df.reindex(range(max_rows)).reset_index(drop=True)\n",
    "\n",
    "#print(max_rows)"
   ]
  },
  {
   "cell_type": "code",
   "execution_count": 5,
   "id": "dd9f3a80-4277-42bc-ad5c-6b0f13f3a708",
   "metadata": {
    "execution": {
     "iopub.execute_input": "2025-04-08T13:09:43.554714Z",
     "iopub.status.busy": "2025-04-08T13:09:43.553043Z",
     "iopub.status.idle": "2025-04-08T13:09:43.593299Z",
     "shell.execute_reply": "2025-04-08T13:09:43.591833Z",
     "shell.execute_reply.started": "2025-04-08T13:09:43.554590Z"
    }
   },
   "outputs": [],
   "source": [
    "# Expand DataFrames to match max_rows\n",
    "hobo_df_low = hobo_df_low.reindex(range(max_rows))\n",
    "hobo_df_mid = hobo_df_mid.reindex(range(max_rows))\n",
    "hobo_df_top = hobo_df_top.reindex(range(max_rows))\n",
    "\n",
    "# Determine the number of missing rows of the relatuive humidity file\n",
    "missing_rows = max_rows - len(rh_df)\n",
    "#print(\"rh_df_1\", rh_df)\n",
    "\n",
    "# Create a DataFrame filled with 48% for the missing rows\n",
    "# Ensure missing_rh has the same columns as rh_df\n",
    "missing_rh = pd.DataFrame({col: [48] * (max_rows - len(rh_df)) for col in rh_df.columns})\n",
    "\n",
    "# Concatenate and trim to max_rows\n",
    "rh_df = pd.concat([missing_rh, rh_df], ignore_index=True).iloc[:max_rows]\n",
    "\n",
    "\n",
    "#if missing_rows > 0:\n",
    "#    missing_rh = pd.DataFrame({\"Relative humidity [%]\": [48] * missing_rows})\n",
    "    #print(\"missing rh\", missing_rh)\n",
    "#    rh_df = pd.concat([missing_rh, rh_df], ignore_index=True)\n",
    "\n",
    "#print(\"rh_df_2\", rh_df)\n",
    "# Ensure final DataFrame has the correct number of rows\n",
    "rh_df = rh_df.reindex(range(max_rows))\n",
    "\n"
   ]
  },
  {
   "cell_type": "code",
   "execution_count": 6,
   "id": "64c1e341-7dc4-483b-a3b4-d32568a7934f",
   "metadata": {
    "execution": {
     "iopub.execute_input": "2025-04-08T13:09:45.415001Z",
     "iopub.status.busy": "2025-04-08T13:09:45.413766Z",
     "iopub.status.idle": "2025-04-08T13:09:45.432612Z",
     "shell.execute_reply": "2025-04-08T13:09:45.429416Z",
     "shell.execute_reply.started": "2025-04-08T13:09:45.414849Z"
    }
   },
   "outputs": [],
   "source": [
    "# check the new rel humidity:\n",
    "#print(rh_df.head())\n",
    "#print(rh_df.tail())\n",
    "\n",
    "#check the column's names\n",
    "#print(hobo_df_low.columns)\n",
    "#print(hobo_df_mid.columns)\n",
    "#print(hobo_df_top.columns)"
   ]
  },
  {
   "cell_type": "code",
   "execution_count": 7,
   "id": "fbc5d83a-3db2-421a-bc3f-064680d47b52",
   "metadata": {
    "execution": {
     "iopub.execute_input": "2025-04-08T13:09:47.203746Z",
     "iopub.status.busy": "2025-04-08T13:09:47.203040Z",
     "iopub.status.idle": "2025-04-08T13:09:47.224219Z",
     "shell.execute_reply": "2025-04-08T13:09:47.221056Z",
     "shell.execute_reply.started": "2025-04-08T13:09:47.203688Z"
    }
   },
   "outputs": [],
   "source": [
    "# Assign to df\n",
    "df[\"Relative humidity [%]\"] = rh_df[\"RH, %\"].values\n",
    "\n",
    "# Compute the average values for Air Temperature and Air Speed\n",
    "\n",
    "df[\"Air speed [m/s]\"] = (\n",
    "    hobo_df_low[\"Air_speed (m/s)\"] + hobo_df_mid[\"Air_speed (m/s)\"] + hobo_df_top[\"Air_speed (m/s)\"]\n",
    ") / 3"
   ]
  },
  {
   "cell_type": "code",
   "execution_count": 8,
   "id": "d6c509be-f677-48c4-8ce7-5223b2d713d9",
   "metadata": {
    "execution": {
     "iopub.execute_input": "2025-04-08T13:09:49.798882Z",
     "iopub.status.busy": "2025-04-08T13:09:49.796769Z",
     "iopub.status.idle": "2025-04-08T13:09:49.815640Z",
     "shell.execute_reply": "2025-04-08T13:09:49.813962Z",
     "shell.execute_reply.started": "2025-04-08T13:09:49.798788Z"
    }
   },
   "outputs": [],
   "source": [
    "# Compute the average values for MRT\n",
    "df[\"MRT [C]\"] = (\n",
    "    low_df[\"T_MRT\"] + mid_df[\"T_MRT\"] + top_df[\"T_MRT\"]\n",
    ") / 3"
   ]
  },
  {
   "cell_type": "code",
   "execution_count": 9,
   "id": "35969254-e415-48b6-93e2-e4e3ca469562",
   "metadata": {
    "execution": {
     "iopub.execute_input": "2025-04-08T13:09:54.306488Z",
     "iopub.status.busy": "2025-04-08T13:09:54.303274Z",
     "iopub.status.idle": "2025-04-08T13:09:54.332092Z",
     "shell.execute_reply": "2025-04-08T13:09:54.327128Z",
     "shell.execute_reply.started": "2025-04-08T13:09:54.306336Z"
    }
   },
   "outputs": [],
   "source": [
    "# Compute the average values for Air Temperature and Air Speed\n",
    "df[\"Air temperature [C]\"] = (\n",
    "    hobo_df_low[\"T_air (ï¿½C)\"] + hobo_df_mid[\"T_air (°C)\"] + hobo_df_top[\"T_air (°C)\"]\n",
    ") / 3\n",
    "\n",
    "# Constants for metabolic rate and clothing level\n",
    "df[\"Metabolic rate [met]\"] = 1.0\n",
    "df[\"Clothing level [clo]\"] = 0.57\n",
    "\n",
    "# Fill missing values if necessary\n",
    "#df.fillna(method=\"ffill\", inplace=True)  # Forward-fill missing data with the last value\n",
    "df.fillna(0, inplace=True) # Forward-fill missing data with 0\n",
    "\n"
   ]
  },
  {
   "cell_type": "code",
   "execution_count": 22,
   "id": "fe5fb8fa-c8ef-44da-9944-4e285ce43bce",
   "metadata": {
    "execution": {
     "iopub.execute_input": "2025-04-07T09:02:24.372903Z",
     "iopub.status.busy": "2025-04-07T09:02:24.371261Z",
     "iopub.status.idle": "2025-04-07T09:02:24.386775Z",
     "shell.execute_reply": "2025-04-07T09:02:24.382340Z",
     "shell.execute_reply.started": "2025-04-07T09:02:24.372858Z"
    }
   },
   "outputs": [],
   "source": [
    "# Verfication: Print the first 5 rows of Air temperature and Air speed --> OK\n",
    "#print(df[[\"Air temperature [C]\", \"Air speed [m/s]\"]].head())\n",
    "\n",
    "# Verfication: Print the first 5 rows of Relative Humidity --> OK\n",
    "#print(df[\"Relative humidity [%]\"].head())\n",
    "\n",
    "# Verfication: Print the first 5 rows of Relative Humidity --> OK\n",
    "#print(df[\"MRT [C]\"].head())\n",
    "\n",
    "# Verfication: Print the first 5 rows of Metabolic rate and Clothing --> OK\n",
    "#print(df[[\"Metabolic rate [met]\", \"Clothing level [clo]\"]].head())"
   ]
  },
  {
   "cell_type": "code",
   "execution_count": 23,
   "id": "9d74bce3-82a9-41a5-8465-349c234b0379",
   "metadata": {
    "execution": {
     "iopub.execute_input": "2025-04-07T09:02:24.872950Z",
     "iopub.status.busy": "2025-04-07T09:02:24.870597Z",
     "iopub.status.idle": "2025-04-07T09:02:24.883671Z",
     "shell.execute_reply": "2025-04-07T09:02:24.882728Z",
     "shell.execute_reply.started": "2025-04-07T09:02:24.872833Z"
    }
   },
   "outputs": [],
   "source": [
    "# Print the number of rows for each column in the DataFrame\n",
    "# print(\"Number of rows per column in the main DataFrame:\")\n",
    "# print(df.count())\n",
    "\n",
    "# print(\"\\nNumber of rows per column in the HOBO DataFrame:\")\n",
    "# print(hobo_df_low.count())\n",
    "\n",
    "# print(\"\\nNumber of rows per column in the Relative Humidity DataFrame:\")\n",
    "# print(rh_df.count())\n"
   ]
  },
  {
   "cell_type": "code",
   "execution_count": 24,
   "id": "e01badb3-996b-4a8a-803e-3bc87d09126c",
   "metadata": {
    "execution": {
     "iopub.execute_input": "2025-04-07T09:02:25.232596Z",
     "iopub.status.busy": "2025-04-07T09:02:25.230168Z",
     "iopub.status.idle": "2025-04-07T09:02:25.367015Z",
     "shell.execute_reply": "2025-04-07T09:02:25.364102Z",
     "shell.execute_reply.started": "2025-04-07T09:02:25.232498Z"
    }
   },
   "outputs": [],
   "source": [
    "# Save the updated CSV\n",
    "output_file_path = \"updated_template-SI.csv\"\n",
    "df.to_csv(output_file_path, index=False)\n",
    "\n",
    "#print(f\"CSV file updated and saved as {output_file_path}\")"
   ]
  },
  {
   "cell_type": "code",
   "execution_count": null,
   "id": "a5534127-1552-452d-b35b-7c1d19f43d4d",
   "metadata": {},
   "outputs": [],
   "source": []
  }
 ],
 "metadata": {
  "kernelspec": {
   "display_name": "Python3",
   "language": "python",
   "name": "python3"
  },
  "language_info": {
   "codemirror_mode": {
    "name": "ipython",
    "version": 3
   },
   "file_extension": ".py",
   "mimetype": "text/x-python",
   "name": "python",
   "nbconvert_exporter": "python",
   "pygments_lexer": "ipython3",
   "version": "3.12.5"
  }
 },
 "nbformat": 4,
 "nbformat_minor": 5
}
