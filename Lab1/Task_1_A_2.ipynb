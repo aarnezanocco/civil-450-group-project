{
 "cells": [
  {
   "cell_type": "code",
   "execution_count": 52,
   "id": "b2e0caff-e8b9-4aea-93bf-96fc1d10e845",
   "metadata": {
    "execution": {
     "iopub.execute_input": "2025-03-28T11:01:32.001323Z",
     "iopub.status.busy": "2025-03-28T11:01:31.996858Z",
     "iopub.status.idle": "2025-03-28T11:01:32.022706Z",
     "shell.execute_reply": "2025-03-28T11:01:32.020662Z",
     "shell.execute_reply.started": "2025-03-28T11:01:32.001212Z"
    }
   },
   "outputs": [],
   "source": [
    "import pandas as pd\n",
    "\n",
    "# Load the existing CSV file\n",
    "file_path = \"template-SI.csv\"  # Update the path if needed\n",
    "df = pd.read_csv(file_path)\n"
   ]
  },
  {
   "cell_type": "code",
   "execution_count": 53,
   "id": "826a346f-f30a-44ac-a46a-fae5a86d2020",
   "metadata": {
    "execution": {
     "iopub.execute_input": "2025-03-28T11:01:32.330508Z",
     "iopub.status.busy": "2025-03-28T11:01:32.329532Z",
     "iopub.status.idle": "2025-03-28T11:01:32.518644Z",
     "shell.execute_reply": "2025-03-28T11:01:32.517397Z",
     "shell.execute_reply.started": "2025-03-28T11:01:32.330428Z"
    }
   },
   "outputs": [],
   "source": [
    "# Import Air temperature and Air speed from \"HOBO/Group3-Low.csv\"\n",
    "hobo_low = \"HOBO/Group3-Low.csv\"\n",
    "#hobo_df = pd.read_csv(hobo_file)\n",
    "hobo_df_low = pd.read_csv(hobo_low, encoding=\"latin1\")  # Try \"ISO-8859-1\" or \"cp1252\" if needed\n",
    "\n",
    "hobo_mid = \"HOBO/Group3-Mid.csv\"\n",
    "#hobo_df = pd.read_csv(hobo_file)\n",
    "hobo_df_mid = pd.read_csv(hobo_mid, encoding=\"latin1\")  # Try \"ISO-8859-1\" or \"cp1252\" if needed\n",
    "\n",
    "hobo_top = \"HOBO/Group3-Top.csv\"\n",
    "#hobo_df = pd.read_csv(hobo_file)\n",
    "hobo_df_top = pd.read_csv(hobo_top, encoding=\"latin1\")  # Try \"ISO-8859-1\" or \"cp1252\" if needed\n",
    "\n",
    "# Import Relative Humidity values from \"Relative Humidity.csv\"\n",
    "relative_humidity_file = \"Relative Humidity.xlsx\"  # Update the file name\n",
    "rh_df = pd.read_excel(relative_humidity_file)  # Read the Excel file\n"
   ]
  },
  {
   "cell_type": "code",
   "execution_count": 54,
   "id": "5480ca34-7f5e-44e1-96c0-3360ae7ef981",
   "metadata": {
    "execution": {
     "iopub.execute_input": "2025-03-28T11:01:32.760481Z",
     "iopub.status.busy": "2025-03-28T11:01:32.759514Z",
     "iopub.status.idle": "2025-03-28T11:01:32.784533Z",
     "shell.execute_reply": "2025-03-28T11:01:32.782934Z",
     "shell.execute_reply.started": "2025-03-28T11:01:32.760403Z"
    }
   },
   "outputs": [],
   "source": [
    "# Determine the max number of rows required\n",
    "#max_rows = max(hobo_df_low.count(), hobo_df_mid.count(), hobo_df_top.count(), rh_df.count())\n",
    "max_rows = max(hobo_df_low.count().max(), \n",
    "               hobo_df_mid.count().max(), \n",
    "               hobo_df_top.count().max(), \n",
    "               rh_df.count().max())\n",
    "\n",
    "# Expand df to match max_rows\n",
    "df = df.reindex(range(max_rows)).reset_index(drop=True)\n",
    "\n",
    "#print(max_rows)"
   ]
  },
  {
   "cell_type": "code",
   "execution_count": 55,
   "id": "dd9f3a80-4277-42bc-ad5c-6b0f13f3a708",
   "metadata": {
    "execution": {
     "iopub.execute_input": "2025-03-28T11:01:35.381112Z",
     "iopub.status.busy": "2025-03-28T11:01:35.380172Z",
     "iopub.status.idle": "2025-03-28T11:01:35.426805Z",
     "shell.execute_reply": "2025-03-28T11:01:35.424664Z",
     "shell.execute_reply.started": "2025-03-28T11:01:35.381035Z"
    }
   },
   "outputs": [
    {
     "name": "stdout",
     "output_type": "stream",
     "text": [
      "rh_df_1                Date Time   RH, %\n",
      "0    2025-03-14 10:25:19  46.581\n",
      "1    2025-03-14 10:25:20  46.615\n",
      "2    2025-03-14 10:25:21  46.647\n",
      "3    2025-03-14 10:25:22  46.710\n",
      "4    2025-03-14 10:25:23  46.744\n",
      "...                  ...     ...\n",
      "3036 2025-03-14 11:15:55  33.983\n",
      "3037 2025-03-14 11:15:56  33.983\n",
      "3038 2025-03-14 11:15:57  33.983\n",
      "3039 2025-03-14 11:15:58  33.983\n",
      "3040 2025-03-14 11:15:59  33.983\n",
      "\n",
      "[3041 rows x 2 columns]\n",
      "missing rh       Relative humidity [%]\n",
      "0                        48\n",
      "1                        48\n",
      "2                        48\n",
      "3                        48\n",
      "4                        48\n",
      "...                     ...\n",
      "4155                     48\n",
      "4156                     48\n",
      "4157                     48\n",
      "4158                     48\n",
      "4159                     48\n",
      "\n",
      "[4160 rows x 1 columns]\n",
      "rh_df_2       Relative humidity [%]           Date Time   RH, %\n",
      "0                      48.0                 NaT     NaN\n",
      "1                      48.0                 NaT     NaN\n",
      "2                      48.0                 NaT     NaN\n",
      "3                      48.0                 NaT     NaN\n",
      "4                      48.0                 NaT     NaN\n",
      "...                     ...                 ...     ...\n",
      "7196                    NaN 2025-03-14 11:15:55  33.983\n",
      "7197                    NaN 2025-03-14 11:15:56  33.983\n",
      "7198                    NaN 2025-03-14 11:15:57  33.983\n",
      "7199                    NaN 2025-03-14 11:15:58  33.983\n",
      "7200                    NaN 2025-03-14 11:15:59  33.983\n",
      "\n",
      "[7201 rows x 3 columns]\n"
     ]
    }
   ],
   "source": [
    "# Expand DataFrames to match max_rows\n",
    "hobo_df_low = hobo_df_low.reindex(range(max_rows))\n",
    "hobo_df_mid = hobo_df_mid.reindex(range(max_rows))\n",
    "hobo_df_top = hobo_df_top.reindex(range(max_rows))\n",
    "\n",
    "# Determine the number of missing rows\n",
    "missing_rows = max_rows - len(rh_df)\n",
    "#print(\"rh_df_1\", rh_df)\n",
    "\n",
    "# Create a DataFrame filled with 48% for the missing rows\n",
    "# Ensure missing_rh has the same columns as rh_df\n",
    "missing_rh = pd.DataFrame({col: [48] * (max_rows - len(rh_df)) for col in rh_df.columns})\n",
    "\n",
    "# Concatenate and trim to max_rows\n",
    "rh_df = pd.concat([missing_rh, rh_df], ignore_index=True).iloc[:max_rows]\n",
    "\n",
    "\n",
    "#if missing_rows > 0:\n",
    "#    missing_rh = pd.DataFrame({\"Relative humidity [%]\": [48] * missing_rows})\n",
    "    #print(\"missing rh\", missing_rh)\n",
    "#    rh_df = pd.concat([missing_rh, rh_df], ignore_index=True)\n",
    "\n",
    "#print(\"rh_df_2\", rh_df)\n",
    "# Ensure final DataFrame has the correct number of rows\n",
    "rh_df = rh_df.reindex(range(max_rows))\n",
    "\n"
   ]
  },
  {
   "cell_type": "code",
   "execution_count": null,
   "id": "fbc5d83a-3db2-421a-bc3f-064680d47b52",
   "metadata": {},
   "outputs": [],
   "source": [
    "# Assign to df\n",
    "df[\"Relative humidity [%]\"] = rh_df[\"RH, %\"].values\n",
    "\n",
    "# Compute the average values for Air Temperature and Air Speed\n",
    "df[\"Air temperature [C]\"] = (\n",
    "    hobo_df_low[\"T_air (°C)\"] + hobo_df_mid[\"T_air (°C)\"] + hobo_df_top[\"T_air (°C)\"]\n",
    ") / 3\n",
    "\n",
    "df[\"Air speed [m/s]\"] = (\n",
    "    hobo_df_low[\"Air_speed (m/s)\"] + hobo_df_mid[\"Air_speed (m/s)\"] + hobo_df_top[\"Air_speed (m/s)\"]\n",
    ") / 3\n",
    "\n",
    "# Fill missing values if necessary\n",
    "#df.fillna(method=\"ffill\", inplace=True)  # Forward-fill missing data with the last value\n",
    "df.fillna(0, inplace=True) # Forward-fill missing data with 0\n",
    "\n",
    "# Constants for metabolic rate and clothing level\n",
    "df[\"Metabolic rate [met]\"] = 1.0\n",
    "df[\"Clothing level [clo]\"] = 0.57"
   ]
  },
  {
   "cell_type": "code",
   "execution_count": 44,
   "id": "fe5fb8fa-c8ef-44da-9944-4e285ce43bce",
   "metadata": {
    "execution": {
     "iopub.execute_input": "2025-03-28T10:37:44.947152Z",
     "iopub.status.busy": "2025-03-28T10:37:44.946271Z",
     "iopub.status.idle": "2025-03-28T10:37:44.963503Z",
     "shell.execute_reply": "2025-03-28T10:37:44.961120Z",
     "shell.execute_reply.started": "2025-03-28T10:37:44.947078Z"
    }
   },
   "outputs": [
    {
     "name": "stdout",
     "output_type": "stream",
     "text": [
      "0    0.0\n",
      "1    0.0\n",
      "2    0.0\n",
      "3    0.0\n",
      "4    0.0\n",
      "Name: Relative humidity [%], dtype: float64\n"
     ]
    }
   ],
   "source": [
    "# Verfication: Print the first 5 rows of Air temperature and Air speed --> OK\n",
    "#print(df[[\"Air temperature [C]\", \"Air speed [m/s]\"]].head())\n",
    "\n",
    "# Verfication: Print the first 5 rows of Relative Humidity --> OK\n",
    "#print(df[\"Relative humidity [%]\"].head())\n",
    "\n",
    "# Verfication: Print the first 5 rows of Relative Humidity --> OK\n",
    "#print(df[\"MRT [C]\"].head())\n",
    "\n",
    "# Verfication: Print the first 5 rows of Metabolic rate and Clothing --> OK\n",
    "#print(df[[\"Metabolic rate [met]\", \"Clothing level [clo]\"]].head())"
   ]
  },
  {
   "cell_type": "code",
   "execution_count": 25,
   "id": "9d74bce3-82a9-41a5-8465-349c234b0379",
   "metadata": {
    "execution": {
     "iopub.execute_input": "2025-03-28T08:55:55.927744Z",
     "iopub.status.busy": "2025-03-28T08:55:55.926581Z",
     "iopub.status.idle": "2025-03-28T08:55:55.951198Z",
     "shell.execute_reply": "2025-03-28T08:55:55.949680Z",
     "shell.execute_reply.started": "2025-03-28T08:55:55.927531Z"
    }
   },
   "outputs": [
    {
     "name": "stdout",
     "output_type": "stream",
     "text": [
      "Number of rows per column in the main DataFrame:\n",
      "Air temperature [C]      7201\n",
      "MRT [C]                  7201\n",
      "Air speed [m/s]          7201\n",
      "Relative humidity [%]    7201\n",
      "Metabolic rate [met]     7201\n",
      "Clothing level [clo]     7201\n",
      "dtype: int64\n",
      "\n",
      "Number of rows per column in the HOBO DataFrame:\n",
      "Date & Time        7201\n",
      "T_air (°C)         7201\n",
      "T_globe (°C)       7201\n",
      "Air_speed (m/s)    7201\n",
      "dtype: int64\n",
      "\n",
      "Number of rows per column in the Relative Humidity DataFrame:\n",
      "Date Time    3041\n",
      "RH, %        3041\n",
      "dtype: int64\n"
     ]
    }
   ],
   "source": [
    "# Print the number of rows for each column in the DataFrame\n",
    "print(\"Number of rows per column in the main DataFrame:\")\n",
    "print(df.count())\n",
    "\n",
    "print(\"\\nNumber of rows per column in the HOBO DataFrame:\")\n",
    "print(hobo_df.count())\n",
    "\n",
    "print(\"\\nNumber of rows per column in the Relative Humidity DataFrame:\")\n",
    "print(rh_df.count())\n"
   ]
  },
  {
   "cell_type": "code",
   "execution_count": null,
   "id": "e01badb3-996b-4a8a-803e-3bc87d09126c",
   "metadata": {},
   "outputs": [],
   "source": [
    "# Save the updated CSV\n",
    "#output_file_path = \"updated_template-SI.csv\"\n",
    "#df.to_csv(output_file_path, index=False)\n",
    "\n",
    "#print(f\"CSV file updated and saved as {output_file_path}\")"
   ]
  }
 ],
 "metadata": {
  "kernelspec": {
   "display_name": "Python3",
   "language": "python",
   "name": "python3"
  },
  "language_info": {
   "codemirror_mode": {
    "name": "ipython",
    "version": 3
   },
   "file_extension": ".py",
   "mimetype": "text/x-python",
   "name": "python",
   "nbconvert_exporter": "python",
   "pygments_lexer": "ipython3",
   "version": "3.12.5"
  }
 },
 "nbformat": 4,
 "nbformat_minor": 5
}
