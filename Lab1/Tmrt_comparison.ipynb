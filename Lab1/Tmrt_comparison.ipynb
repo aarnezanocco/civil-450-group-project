{
 "cells": [
  {
   "cell_type": "code",
   "execution_count": 1,
   "id": "22f6aef9",
   "metadata": {},
   "outputs": [],
   "source": [
    "import pandas as pd\n",
    "import numpy as np\n",
    "import matplotlib.pyplot as plt"
   ]
  },
  {
   "cell_type": "code",
   "execution_count": 3,
   "id": "5efb20da",
   "metadata": {},
   "outputs": [],
   "source": [
    "CUBE = pd.read_excel(\"CUBE\\Group 3-Cube.xlsx\")\n",
    "results_1A = pd.read_csv(\"results_TOP.csv\")\n",
    "\n",
    "T_mrt_cube = CUBE[\"Mean Radiant Temperature (*C)\"]\n",
    "T_mrt_globe = results_1A[\"T_MRT\"]\n"
   ]
  },
  {
   "cell_type": "code",
   "execution_count": 4,
   "id": "af46a7d6",
   "metadata": {},
   "outputs": [
    {
     "data": {
      "text/plain": [
       "0       29.58\n",
       "1       29.57\n",
       "2       29.54\n",
       "3       29.56\n",
       "4       29.56\n",
       "        ...  \n",
       "5368    22.17\n",
       "5369    22.20\n",
       "5370    22.18\n",
       "5371    22.18\n",
       "5372    22.20\n",
       "Name: Mean Radiant Temperature (*C), Length: 5373, dtype: float64"
      ]
     },
     "execution_count": 4,
     "metadata": {},
     "output_type": "execute_result"
    }
   ],
   "source": [
    "T_mrt_cube"
   ]
  },
  {
   "cell_type": "code",
   "execution_count": 6,
   "id": "4bc32e6b",
   "metadata": {},
   "outputs": [
    {
     "data": {
      "text/plain": [
       "0       29.58\n",
       "1       29.57\n",
       "2       29.54\n",
       "3       29.56\n",
       "4       29.56\n",
       "        ...  \n",
       "5368    22.17\n",
       "5369    22.20\n",
       "5370    22.18\n",
       "5371    22.18\n",
       "5372    22.20\n",
       "Name: Mean Radiant Temperature (*C), Length: 5373, dtype: float64"
      ]
     },
     "execution_count": 6,
     "metadata": {},
     "output_type": "execute_result"
    }
   ],
   "source": [
    "T_mrt_cube"
   ]
  }
 ],
 "metadata": {
  "kernelspec": {
   "display_name": "Python 3",
   "language": "python",
   "name": "python3"
  },
  "language_info": {
   "codemirror_mode": {
    "name": "ipython",
    "version": 3
   },
   "file_extension": ".py",
   "mimetype": "text/x-python",
   "name": "python",
   "nbconvert_exporter": "python",
   "pygments_lexer": "ipython3",
   "version": "3.11.9"
  }
 },
 "nbformat": 4,
 "nbformat_minor": 5
}
