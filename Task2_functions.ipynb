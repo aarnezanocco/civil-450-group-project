{
 "cells": [
  {
   "cell_type": "code",
   "execution_count": 17,
   "id": "6a018e7e-e84f-43a3-8ed0-4c954b55a148",
   "metadata": {
    "execution": {
     "iopub.execute_input": "2025-03-28T01:34:53.379033Z",
     "iopub.status.busy": "2025-03-28T01:34:53.377929Z",
     "iopub.status.idle": "2025-03-28T01:34:55.313254Z",
     "shell.execute_reply": "2025-03-28T01:34:55.311534Z",
     "shell.execute_reply.started": "2025-03-28T01:34:53.378948Z"
    }
   },
   "outputs": [],
   "source": [
    "# Your libraries here\n",
    "import re\n",
    "import math\n",
    "import numpy as np\n",
    "import pandas as pd\n",
    "import seaborn as sns\n",
    "import matplotlib.pyplot as plt\n",
    "# tells matplotlib to embed plots within the notebook\n",
    "%matplotlib inline"
   ]
  },
  {
   "cell_type": "code",
   "execution_count": 18,
   "id": "b5031d44-7378-4f1f-8262-a572377e1216",
   "metadata": {
    "execution": {
     "iopub.execute_input": "2025-03-28T01:34:55.315178Z",
     "iopub.status.busy": "2025-03-28T01:34:55.314767Z",
     "iopub.status.idle": "2025-03-28T01:34:55.346964Z",
     "shell.execute_reply": "2025-03-28T01:34:55.345675Z",
     "shell.execute_reply.started": "2025-03-28T01:34:55.315151Z"
    }
   },
   "outputs": [
    {
     "data": {
      "text/html": [
       "<div>\n",
       "<style scoped>\n",
       "    .dataframe tbody tr th:only-of-type {\n",
       "        vertical-align: middle;\n",
       "    }\n",
       "\n",
       "    .dataframe tbody tr th {\n",
       "        vertical-align: top;\n",
       "    }\n",
       "\n",
       "    .dataframe thead th {\n",
       "        text-align: right;\n",
       "    }\n",
       "</style>\n",
       "<table border=\"1\" class=\"dataframe\">\n",
       "  <thead>\n",
       "    <tr style=\"text-align: right;\">\n",
       "      <th></th>\n",
       "      <th>Date &amp; Time</th>\n",
       "      <th>T_air (°C)</th>\n",
       "      <th>T_globe (°C)</th>\n",
       "      <th>Air_speed (m/s)</th>\n",
       "    </tr>\n",
       "  </thead>\n",
       "  <tbody>\n",
       "    <tr>\n",
       "      <th>0</th>\n",
       "      <td>3/14/2025 9:15</td>\n",
       "      <td>28.731</td>\n",
       "      <td>28.995</td>\n",
       "      <td>0.028590</td>\n",
       "    </tr>\n",
       "    <tr>\n",
       "      <th>1</th>\n",
       "      <td>3/14/2025 9:15</td>\n",
       "      <td>28.731</td>\n",
       "      <td>28.997</td>\n",
       "      <td>0.000239</td>\n",
       "    </tr>\n",
       "    <tr>\n",
       "      <th>2</th>\n",
       "      <td>3/14/2025 9:15</td>\n",
       "      <td>28.731</td>\n",
       "      <td>28.997</td>\n",
       "      <td>0.000162</td>\n",
       "    </tr>\n",
       "    <tr>\n",
       "      <th>3</th>\n",
       "      <td>3/14/2025 9:15</td>\n",
       "      <td>28.732</td>\n",
       "      <td>28.997</td>\n",
       "      <td>0.000162</td>\n",
       "    </tr>\n",
       "    <tr>\n",
       "      <th>4</th>\n",
       "      <td>3/14/2025 9:15</td>\n",
       "      <td>28.732</td>\n",
       "      <td>28.997</td>\n",
       "      <td>0.000162</td>\n",
       "    </tr>\n",
       "    <tr>\n",
       "      <th>...</th>\n",
       "      <td>...</td>\n",
       "      <td>...</td>\n",
       "      <td>...</td>\n",
       "      <td>...</td>\n",
       "    </tr>\n",
       "    <tr>\n",
       "      <th>7196</th>\n",
       "      <td>3/14/2025 11:14</td>\n",
       "      <td>19.884</td>\n",
       "      <td>20.405</td>\n",
       "      <td>0.091410</td>\n",
       "    </tr>\n",
       "    <tr>\n",
       "      <th>7197</th>\n",
       "      <td>3/14/2025 11:14</td>\n",
       "      <td>19.882</td>\n",
       "      <td>20.405</td>\n",
       "      <td>0.138889</td>\n",
       "    </tr>\n",
       "    <tr>\n",
       "      <th>7198</th>\n",
       "      <td>3/14/2025 11:14</td>\n",
       "      <td>19.879</td>\n",
       "      <td>20.403</td>\n",
       "      <td>0.135120</td>\n",
       "    </tr>\n",
       "    <tr>\n",
       "      <th>7199</th>\n",
       "      <td>3/14/2025 11:14</td>\n",
       "      <td>19.877</td>\n",
       "      <td>20.403</td>\n",
       "      <td>0.112538</td>\n",
       "    </tr>\n",
       "    <tr>\n",
       "      <th>7200</th>\n",
       "      <td>3/14/2025 11:15</td>\n",
       "      <td>19.874</td>\n",
       "      <td>20.403</td>\n",
       "      <td>0.063934</td>\n",
       "    </tr>\n",
       "  </tbody>\n",
       "</table>\n",
       "<p>7201 rows × 4 columns</p>\n",
       "</div>"
      ],
      "text/plain": [
       "          Date & Time  T_air (°C)  T_globe (°C)  Air_speed (m/s)\n",
       "0      3/14/2025 9:15      28.731        28.995         0.028590\n",
       "1      3/14/2025 9:15      28.731        28.997         0.000239\n",
       "2      3/14/2025 9:15      28.731        28.997         0.000162\n",
       "3      3/14/2025 9:15      28.732        28.997         0.000162\n",
       "4      3/14/2025 9:15      28.732        28.997         0.000162\n",
       "...               ...         ...           ...              ...\n",
       "7196  3/14/2025 11:14      19.884        20.405         0.091410\n",
       "7197  3/14/2025 11:14      19.882        20.405         0.138889\n",
       "7198  3/14/2025 11:14      19.879        20.403         0.135120\n",
       "7199  3/14/2025 11:14      19.877        20.403         0.112538\n",
       "7200  3/14/2025 11:15      19.874        20.403         0.063934\n",
       "\n",
       "[7201 rows x 4 columns]"
      ]
     },
     "metadata": {},
     "output_type": "display_data"
    }
   ],
   "source": [
    "# change encoding bcs utf-8 does not work\n",
    "df = pd.read_csv(\"HOBO/Group3-Mid.csv\", encoding=\"iso-8859-9\")\n",
    "display(df)"
   ]
  },
  {
   "cell_type": "code",
   "execution_count": 6,
   "id": "8986800f-c645-4029-9a3e-d09304cd013c",
   "metadata": {
    "execution": {
     "iopub.execute_input": "2025-03-26T23:43:39.556320Z",
     "iopub.status.busy": "2025-03-26T23:43:39.553888Z",
     "iopub.status.idle": "2025-03-26T23:43:39.575868Z",
     "shell.execute_reply": "2025-03-26T23:43:39.573142Z",
     "shell.execute_reply.started": "2025-03-26T23:43:39.556216Z"
    }
   },
   "outputs": [
    {
     "data": {
      "text/plain": [
       "Date & Time         0\n",
       "Heat Flux (W/m2)    0\n",
       "T_sk (°C)           0\n",
       "T_core (°C)         0\n",
       "dtype: int64"
      ]
     },
     "execution_count": 6,
     "metadata": {},
     "output_type": "execute_result"
    }
   ],
   "source": [
    "df.isnull().sum()"
   ]
  },
  {
   "cell_type": "code",
   "execution_count": 11,
   "id": "b2cea5a2-412e-484e-bf4c-7f9c622139aa",
   "metadata": {
    "execution": {
     "iopub.execute_input": "2025-03-26T23:48:25.579317Z",
     "iopub.status.busy": "2025-03-26T23:48:25.576622Z",
     "iopub.status.idle": "2025-03-26T23:48:26.171608Z",
     "shell.execute_reply": "2025-03-26T23:48:26.169480Z",
     "shell.execute_reply.started": "2025-03-26T23:48:25.579214Z"
    }
   },
   "outputs": [
    {
     "data": {
      "text/html": [
       "<div>\n",
       "<style scoped>\n",
       "    .dataframe tbody tr th:only-of-type {\n",
       "        vertical-align: middle;\n",
       "    }\n",
       "\n",
       "    .dataframe tbody tr th {\n",
       "        vertical-align: top;\n",
       "    }\n",
       "\n",
       "    .dataframe thead th {\n",
       "        text-align: right;\n",
       "    }\n",
       "</style>\n",
       "<table border=\"1\" class=\"dataframe\">\n",
       "  <thead>\n",
       "    <tr style=\"text-align: right;\">\n",
       "      <th></th>\n",
       "      <th>Date &amp; Time</th>\n",
       "      <th>Heat Flux (W/m2)</th>\n",
       "      <th>T_sk (°C)</th>\n",
       "      <th>T_core (°C)</th>\n",
       "    </tr>\n",
       "  </thead>\n",
       "  <tbody>\n",
       "    <tr>\n",
       "      <th>0</th>\n",
       "      <td>2025-03-14 09:15:00.000</td>\n",
       "      <td>46.796185</td>\n",
       "      <td>31.677</td>\n",
       "      <td>37.000</td>\n",
       "    </tr>\n",
       "    <tr>\n",
       "      <th>1</th>\n",
       "      <td>2025-03-14 09:15:01.000</td>\n",
       "      <td>46.796185</td>\n",
       "      <td>31.681</td>\n",
       "      <td>37.000</td>\n",
       "    </tr>\n",
       "    <tr>\n",
       "      <th>2</th>\n",
       "      <td>2025-03-14 09:15:02.000</td>\n",
       "      <td>46.796185</td>\n",
       "      <td>31.683</td>\n",
       "      <td>37.000</td>\n",
       "    </tr>\n",
       "    <tr>\n",
       "      <th>3</th>\n",
       "      <td>2025-03-14 09:15:03.010</td>\n",
       "      <td>46.796185</td>\n",
       "      <td>31.687</td>\n",
       "      <td>37.000</td>\n",
       "    </tr>\n",
       "    <tr>\n",
       "      <th>4</th>\n",
       "      <td>2025-03-14 09:15:04.015</td>\n",
       "      <td>46.796185</td>\n",
       "      <td>31.689</td>\n",
       "      <td>37.000</td>\n",
       "    </tr>\n",
       "    <tr>\n",
       "      <th>...</th>\n",
       "      <td>...</td>\n",
       "      <td>...</td>\n",
       "      <td>...</td>\n",
       "      <td>...</td>\n",
       "    </tr>\n",
       "    <tr>\n",
       "      <th>7160</th>\n",
       "      <td>2025-03-14 11:14:55.795</td>\n",
       "      <td>100.981242</td>\n",
       "      <td>29.093</td>\n",
       "      <td>37.305</td>\n",
       "    </tr>\n",
       "    <tr>\n",
       "      <th>7161</th>\n",
       "      <td>2025-03-14 11:14:56.800</td>\n",
       "      <td>100.981242</td>\n",
       "      <td>29.097</td>\n",
       "      <td>37.305</td>\n",
       "    </tr>\n",
       "    <tr>\n",
       "      <th>7162</th>\n",
       "      <td>2025-03-14 11:14:57.805</td>\n",
       "      <td>100.981242</td>\n",
       "      <td>29.097</td>\n",
       "      <td>37.305</td>\n",
       "    </tr>\n",
       "    <tr>\n",
       "      <th>7163</th>\n",
       "      <td>2025-03-14 11:14:58.810</td>\n",
       "      <td>100.981242</td>\n",
       "      <td>29.097</td>\n",
       "      <td>37.305</td>\n",
       "    </tr>\n",
       "    <tr>\n",
       "      <th>7164</th>\n",
       "      <td>2025-03-14 11:14:59.815</td>\n",
       "      <td>100.981242</td>\n",
       "      <td>29.099</td>\n",
       "      <td>37.305</td>\n",
       "    </tr>\n",
       "  </tbody>\n",
       "</table>\n",
       "<p>7165 rows × 4 columns</p>\n",
       "</div>"
      ],
      "text/plain": [
       "                 Date & Time  Heat Flux (W/m2)  T_sk (°C)  T_core (°C)\n",
       "0    2025-03-14 09:15:00.000         46.796185     31.677       37.000\n",
       "1    2025-03-14 09:15:01.000         46.796185     31.681       37.000\n",
       "2    2025-03-14 09:15:02.000         46.796185     31.683       37.000\n",
       "3    2025-03-14 09:15:03.010         46.796185     31.687       37.000\n",
       "4    2025-03-14 09:15:04.015         46.796185     31.689       37.000\n",
       "...                      ...               ...        ...          ...\n",
       "7160 2025-03-14 11:14:55.795        100.981242     29.093       37.305\n",
       "7161 2025-03-14 11:14:56.800        100.981242     29.097       37.305\n",
       "7162 2025-03-14 11:14:57.805        100.981242     29.097       37.305\n",
       "7163 2025-03-14 11:14:58.810        100.981242     29.097       37.305\n",
       "7164 2025-03-14 11:14:59.815        100.981242     29.099       37.305\n",
       "\n",
       "[7165 rows x 4 columns]"
      ]
     },
     "metadata": {},
     "output_type": "display_data"
    }
   ],
   "source": [
    "df2= pd.read_excel(\"CALERA/G3-OO-HAND.xlsx\")\n",
    "display(df2)"
   ]
  },
  {
   "cell_type": "code",
   "execution_count": 16,
   "id": "ca64b63e-845e-463c-9ebe-222a742b0759",
   "metadata": {
    "execution": {
     "iopub.execute_input": "2025-03-27T00:22:38.720231Z",
     "iopub.status.busy": "2025-03-27T00:22:38.718549Z",
     "iopub.status.idle": "2025-03-27T00:22:38.741353Z",
     "shell.execute_reply": "2025-03-27T00:22:38.739322Z",
     "shell.execute_reply.started": "2025-03-27T00:22:38.720145Z"
    }
   },
   "outputs": [
    {
     "data": {
      "text/plain": [
       "0       0.427843\n",
       "1       0.427843\n",
       "2       0.427843\n",
       "3       0.427762\n",
       "4       0.427762\n",
       "          ...   \n",
       "7196    1.146219\n",
       "7197    1.146382\n",
       "7198    1.146625\n",
       "7199    1.146788\n",
       "7200    1.147031\n",
       "Name: T_air (°C), Length: 7201, dtype: float64"
      ]
     },
     "metadata": {},
     "output_type": "display_data"
    }
   ],
   "source": [
    "# convective res\n",
    "M = 58.\n",
    "ta = df[\"T_air (°C)\"]\n",
    "q_conv_res = 0.0014 * M * (34-ta)\n",
    "display(q_conv_res)"
   ]
  },
  {
   "cell_type": "code",
   "execution_count": 14,
   "id": "4a327e4d-d654-4e0f-8453-ba1072a08a56",
   "metadata": {
    "execution": {
     "iopub.execute_input": "2025-03-27T00:22:04.478585Z",
     "iopub.status.busy": "2025-03-27T00:22:04.476295Z",
     "iopub.status.idle": "2025-03-27T00:22:04.500934Z",
     "shell.execute_reply": "2025-03-27T00:22:04.498737Z",
     "shell.execute_reply.started": "2025-03-27T00:22:04.478485Z"
    }
   },
   "outputs": [
    {
     "data": {
      "text/plain": [
       "0       28.731\n",
       "1       28.731\n",
       "2       28.731\n",
       "3       28.732\n",
       "4       28.732\n",
       "         ...  \n",
       "7196    19.884\n",
       "7197    19.882\n",
       "7198    19.879\n",
       "7199    19.877\n",
       "7200    19.874\n",
       "Name: T_air (°C), Length: 7201, dtype: float64"
      ]
     },
     "execution_count": 14,
     "metadata": {},
     "output_type": "execute_result"
    }
   ],
   "source": [
    "df[\"T_air (°C)\"]"
   ]
  },
  {
   "cell_type": "code",
   "execution_count": 3,
   "id": "5ed3fb44-e3e4-4e0a-9bae-e07536ad319b",
   "metadata": {
    "execution": {
     "iopub.execute_input": "2025-03-28T01:23:25.054805Z",
     "iopub.status.busy": "2025-03-28T01:23:25.053751Z",
     "iopub.status.idle": "2025-03-28T01:23:25.072916Z",
     "shell.execute_reply": "2025-03-28T01:23:25.070874Z",
     "shell.execute_reply.started": "2025-03-28T01:23:25.054722Z"
    }
   },
   "outputs": [],
   "source": [
    "# functions\n",
    "def calculate_f_cl(I_cl):\n",
    "    \"\"\"\n",
    "    Calculates clothing factor (f_cl).\n",
    "    I_cl: Clothing insulation [clo]\n",
    "    \"\"\"\n",
    "    if I_cl <= 0.5:\n",
    "        f_cl = 1 + 0.31 * I_cl\n",
    "    else:\n",
    "        f_cl = 1.05 + 0.645 * I_cl\n",
    "    return f_cl\n"
   ]
  },
  {
   "cell_type": "code",
   "execution_count": 4,
   "id": "224c4efb-9a59-4441-a7c7-7ebfc65e7bad",
   "metadata": {
    "execution": {
     "iopub.execute_input": "2025-03-28T01:23:26.328134Z",
     "iopub.status.busy": "2025-03-28T01:23:26.327242Z",
     "iopub.status.idle": "2025-03-28T01:23:26.343315Z",
     "shell.execute_reply": "2025-03-28T01:23:26.341145Z",
     "shell.execute_reply.started": "2025-03-28T01:23:26.328057Z"
    }
   },
   "outputs": [
    {
     "data": {
      "text/plain": [
       "1.1178"
      ]
     },
     "execution_count": 4,
     "metadata": {},
     "output_type": "execute_result"
    }
   ],
   "source": [
    "calculate_f_cl(0.38)"
   ]
  },
  {
   "cell_type": "code",
   "execution_count": 9,
   "id": "d6866173-73eb-4264-b81c-54b4df7253ec",
   "metadata": {
    "execution": {
     "iopub.execute_input": "2025-03-28T01:28:56.603668Z",
     "iopub.status.busy": "2025-03-28T01:28:56.602518Z",
     "iopub.status.idle": "2025-03-28T01:28:56.621712Z",
     "shell.execute_reply": "2025-03-28T01:28:56.619100Z",
     "shell.execute_reply.started": "2025-03-28T01:28:56.603497Z"
    }
   },
   "outputs": [],
   "source": [
    "import numpy as np\n",
    "\n",
    "def iterate_T_cl(T_skin, T_air, T_mrt, I_cl, f_cl, epsilon=0.95, max_iter=100, tol=0.01):\n",
    "    \"\"\"\n",
    "    Iterative çözüm ile clothing temperature (T_cl) ve h_rad hesaplanır.\n",
    "    Tüm sıcaklıklar [°C], çıktı T_cl [°C], h_rad [W/m2K]\n",
    "    \"\"\"\n",
    "    # Başlangıç tahmini\n",
    "    T_cl = (T_skin + T_air) / 2\n",
    "    sigma = 5.67e-8  # Stefan-Boltzmann constant\n",
    "    R_cl = I_cl * 0.155  # [m2K/W]\n",
    "\n",
    "    for i in range(max_iter):\n",
    "        T_cl_K = T_cl + 273.15\n",
    "        T_mrt_K = T_mrt + 273.15\n",
    "\n",
    "        # h_rad hesapla\n",
    "        h_rad = 4 * epsilon * sigma * ((T_cl_K + T_mrt_K) / 2)**3\n",
    "\n",
    "        # Combined heat transfer coefficient\n",
    "        h_c = 8.3  # default for moderate air speed (can be improved)\n",
    "        h_total = h_c + h_rad\n",
    "\n",
    "        # Yeni T_cl hesapla (Eq. 2-11 rearranged)\n",
    "        T_cl_new = T_skin - ( (T_skin - T_air) + (T_skin - T_mrt) ) / (1 + f_cl * h_total * R_cl)\n",
    "\n",
    "        # Hata kontrolü\n",
    "        if abs(T_cl_new - T_cl) < tol:\n",
    "            break\n",
    "        T_cl = T_cl_new\n",
    "\n",
    "    return T_cl, h_rad"
   ]
  },
  {
   "cell_type": "code",
   "execution_count": 10,
   "id": "5b82a910-637a-4922-9773-e4fdc05b368f",
   "metadata": {
    "execution": {
     "iopub.execute_input": "2025-03-28T01:29:02.568317Z",
     "iopub.status.busy": "2025-03-28T01:29:02.567375Z",
     "iopub.status.idle": "2025-03-28T01:29:02.584886Z",
     "shell.execute_reply": "2025-03-28T01:29:02.582156Z",
     "shell.execute_reply.started": "2025-03-28T01:29:02.568238Z"
    }
   },
   "outputs": [
    {
     "data": {
      "text/plain": [
       "(23.917104940611804, 5.636575801084783)"
      ]
     },
     "execution_count": 10,
     "metadata": {},
     "output_type": "execute_result"
    }
   ],
   "source": [
    "iterate_T_cl(32, 25, 23.5, 0.38, 1.1178, epsilon=0.95, max_iter=100, tol=0.01)"
   ]
  },
  {
   "cell_type": "code",
   "execution_count": 7,
   "id": "35606b41-42da-47ce-9016-570a31da5ac6",
   "metadata": {
    "execution": {
     "iopub.execute_input": "2025-03-28T01:27:27.753538Z",
     "iopub.status.busy": "2025-03-28T01:27:27.752501Z",
     "iopub.status.idle": "2025-03-28T01:27:27.765722Z",
     "shell.execute_reply": "2025-03-28T01:27:27.763225Z",
     "shell.execute_reply.started": "2025-03-28T01:27:27.753440Z"
    }
   },
   "outputs": [],
   "source": [
    "def Q_rad(h_rad, f_cl, T_cl, T_mrt):\n",
    "    \"\"\"\n",
    "    Radiative heat loss from the body.\n",
    "    T_cl, T_mrt: [°C]\n",
    "    Returns Q_rad in [W/m²]\n",
    "    \"\"\"\n",
    "    return h_rad * f_cl * (T_cl - T_mrt)"
   ]
  },
  {
   "cell_type": "code",
   "execution_count": 11,
   "id": "a0ab651a-253f-4394-aa61-3cfd0a715497",
   "metadata": {
    "execution": {
     "iopub.execute_input": "2025-03-28T01:29:34.000076Z",
     "iopub.status.busy": "2025-03-28T01:29:33.997716Z",
     "iopub.status.idle": "2025-03-28T01:29:34.014469Z",
     "shell.execute_reply": "2025-03-28T01:29:34.011852Z",
     "shell.execute_reply.started": "2025-03-28T01:29:33.999975Z"
    }
   },
   "outputs": [
    {
     "data": {
      "text/plain": [
       "2.62706697360001"
      ]
     },
     "execution_count": 11,
     "metadata": {},
     "output_type": "execute_result"
    }
   ],
   "source": [
    "Q_rad(5.636, 1.1178, 23.917, 23.5)"
   ]
  },
  {
   "cell_type": "code",
   "execution_count": 12,
   "id": "e1de0611-5174-4bdf-b83e-f63dac9001fd",
   "metadata": {
    "execution": {
     "iopub.execute_input": "2025-03-28T01:30:46.510357Z",
     "iopub.status.busy": "2025-03-28T01:30:46.509252Z",
     "iopub.status.idle": "2025-03-28T01:30:46.524044Z",
     "shell.execute_reply": "2025-03-28T01:30:46.520591Z",
     "shell.execute_reply.started": "2025-03-28T01:30:46.510266Z"
    }
   },
   "outputs": [],
   "source": [
    "def Q_conv_skin(h_c, f_cl, T_cl, T_air):\n",
    "    \"\"\"\n",
    "    Convective heat loss from clothing surface.\n",
    "    Returns Q_conv_skin in [W/m²]\n",
    "    \"\"\"\n",
    "    return h_c * f_cl * (T_cl - T_air)"
   ]
  },
  {
   "cell_type": "code",
   "execution_count": 13,
   "id": "39110d7c-36ba-4aee-a544-19362d2f6a27",
   "metadata": {
    "execution": {
     "iopub.execute_input": "2025-03-28T01:31:55.396559Z",
     "iopub.status.busy": "2025-03-28T01:31:55.395552Z",
     "iopub.status.idle": "2025-03-28T01:31:55.411268Z",
     "shell.execute_reply": "2025-03-28T01:31:55.409065Z",
     "shell.execute_reply.started": "2025-03-28T01:31:55.396479Z"
    }
   },
   "outputs": [
    {
     "data": {
      "text/plain": [
       "-3.752789939999994"
      ]
     },
     "execution_count": 13,
     "metadata": {},
     "output_type": "execute_result"
    }
   ],
   "source": [
    "Q_conv_skin(3.1, 1.1178, 23.917, 25)"
   ]
  },
  {
   "cell_type": "code",
   "execution_count": 14,
   "id": "d360e68e-651c-4f29-a0ac-642e82907a6a",
   "metadata": {
    "execution": {
     "iopub.execute_input": "2025-03-28T01:33:13.154479Z",
     "iopub.status.busy": "2025-03-28T01:33:13.153440Z",
     "iopub.status.idle": "2025-03-28T01:33:13.166721Z",
     "shell.execute_reply": "2025-03-28T01:33:13.164194Z",
     "shell.execute_reply.started": "2025-03-28T01:33:13.154394Z"
    }
   },
   "outputs": [],
   "source": [
    "def Q_conv_resp(M, T_air):\n",
    "    \"\"\"\n",
    "    Convective heat loss via respiration.\n",
    "    M: metabolic rate [W/m²]\n",
    "    Returns Q_conv_resp in [W/m²]\n",
    "    \"\"\"\n",
    "    return 0.0014 * M * (34 - T_air)"
   ]
  },
  {
   "cell_type": "code",
   "execution_count": 19,
   "id": "211d945d-cace-4565-a2bb-b62e0b161272",
   "metadata": {
    "execution": {
     "iopub.execute_input": "2025-03-28T01:34:59.368230Z",
     "iopub.status.busy": "2025-03-28T01:34:59.367283Z",
     "iopub.status.idle": "2025-03-28T01:34:59.390834Z",
     "shell.execute_reply": "2025-03-28T01:34:59.389027Z",
     "shell.execute_reply.started": "2025-03-28T01:34:59.368149Z"
    }
   },
   "outputs": [
    {
     "data": {
      "text/plain": [
       "0       0.429318\n",
       "1       0.429318\n",
       "2       0.429318\n",
       "3       0.429237\n",
       "4       0.429237\n",
       "          ...   \n",
       "7196    1.150172\n",
       "7197    1.150335\n",
       "7198    1.150579\n",
       "7199    1.150742\n",
       "7200    1.150986\n",
       "Name: T_air (°C), Length: 7201, dtype: float64"
      ]
     },
     "metadata": {},
     "output_type": "display_data"
    }
   ],
   "source": [
    "# convective res\n",
    "M = 58.2\n",
    "ta = df[\"T_air (°C)\"]\n",
    "q_conv_res = Q_conv_resp(M, ta)\n",
    "display(q_conv_res)"
   ]
  },
  {
   "cell_type": "code",
   "execution_count": null,
   "id": "149d6418-9e5a-4c64-9867-f46550de3a65",
   "metadata": {},
   "outputs": [],
   "source": []
  }
 ],
 "metadata": {
  "kernelspec": {
   "display_name": "Python3",
   "language": "python",
   "name": "python3"
  },
  "language_info": {
   "codemirror_mode": {
    "name": "ipython",
    "version": 3
   },
   "file_extension": ".py",
   "mimetype": "text/x-python",
   "name": "python",
   "nbconvert_exporter": "python",
   "pygments_lexer": "ipython3",
   "version": "3.12.5"
  }
 },
 "nbformat": 4,
 "nbformat_minor": 5
}
