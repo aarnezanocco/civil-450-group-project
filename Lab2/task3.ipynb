{
 "cells": [
  {
   "cell_type": "code",
   "execution_count": 18,
   "id": "360ab467-b868-4c65-b815-4059f96c2133",
   "metadata": {
    "execution": {
     "iopub.execute_input": "2025-05-29T08:01:43.336174Z",
     "iopub.status.busy": "2025-05-29T08:01:43.335121Z",
     "iopub.status.idle": "2025-05-29T08:01:43.348069Z",
     "shell.execute_reply": "2025-05-29T08:01:43.345512Z",
     "shell.execute_reply.started": "2025-05-29T08:01:43.336090Z"
    }
   },
   "outputs": [],
   "source": [
    "import pandas as pd\n",
    "import numpy as np\n",
    "import matplotlib.pyplot as plt"
   ]
  },
  {
   "cell_type": "code",
   "execution_count": 19,
   "id": "826f7a09-37f0-4da1-bfa6-24530c7de8b4",
   "metadata": {
    "execution": {
     "iopub.execute_input": "2025-05-29T08:01:43.585391Z",
     "iopub.status.busy": "2025-05-29T08:01:43.583154Z",
     "iopub.status.idle": "2025-05-29T08:01:43.613976Z",
     "shell.execute_reply": "2025-05-29T08:01:43.611743Z",
     "shell.execute_reply.started": "2025-05-29T08:01:43.585250Z"
    }
   },
   "outputs": [],
   "source": [
    "# ---- STEP 1: Load pyranometer data ----\n",
    "# Update the path to your CSV file\n",
    "pyrano = pd.read_csv(\"Sunshine Pyranometer/25.05.02_CELLS_SPN1_global, diffuse.csv\")\n",
    "\n",
    "# Keep only rows between 10:10 and 10:25 \n",
    "pyrano_filtered = pyrano[(pyrano['timestamp.1'] >= '10:10:00') & (pyrano['timestamp.1'] <= '10:25:00')].copy()\n"
   ]
  },
  {
   "cell_type": "code",
   "execution_count": 20,
   "id": "c94ed7ed-9896-426f-9ada-af706d7d5d3c",
   "metadata": {
    "execution": {
     "iopub.execute_input": "2025-05-29T08:01:43.964235Z",
     "iopub.status.busy": "2025-05-29T08:01:43.963105Z",
     "iopub.status.idle": "2025-05-29T08:01:44.104073Z",
     "shell.execute_reply": "2025-05-29T08:01:44.102124Z",
     "shell.execute_reply.started": "2025-05-29T08:01:43.964147Z"
    }
   },
   "outputs": [],
   "source": [
    "# ---- STEP 2: Load CUBE6 data and compute average ----\n",
    "# Load CUBE6 data\n",
    "cube6 = pd.read_csv(\"New Cube Sensors/25.05.02_CUBE 6.csv\")\n",
    "\n",
    "# Define relevant column names\n",
    "time_col = ' HH:MM:SS'\n",
    "sw_col = ' SOUTH SW RADIANCE (W/m^2/sr)'\n",
    "\n",
    "# Filter by time window (string comparison is fine for this format)\n",
    "cube6_filtered = cube6[(cube6[time_col] >= '10:10:00') & (cube6[time_col] <= '10:25:00')].copy()\n",
    "\n",
    "# Convert HH:MM:SS to datetime.time so we can group by minute\n",
    "cube6_filtered.loc[:, 'minute'] = pd.to_datetime(cube6_filtered[time_col], format=\"%H:%M:%S\").dt.strftime('%H:%M')\n",
    "\n",
    "# Compute average SOUTH SW RADIANCE per minute\n",
    "minute_avg = cube6_filtered.groupby('minute')[sw_col].mean()\n",
    "\n",
    "# Compute overall mean of the minute-averaged values\n",
    "I_transmitted_CUBE6 = minute_avg.mean()\n",
    "\n",
    "\n",
    "# Print results\n",
    "#print(minute_avg)\n",
    "#print(f\"\\nFinal average SOUTH SW RADIANCE over 10:10–10:25 (minute-averaged): {I_transmitted_CUBE6:.2f} W/m²/sr\")"
   ]
  },
  {
   "cell_type": "code",
   "execution_count": 24,
   "id": "4d1ceff7-b561-476c-a7a0-0cca5fc58d23",
   "metadata": {
    "execution": {
     "iopub.execute_input": "2025-05-29T09:27:29.367797Z",
     "iopub.status.busy": "2025-05-29T09:27:29.363903Z",
     "iopub.status.idle": "2025-05-29T09:27:29.396544Z",
     "shell.execute_reply": "2025-05-29T09:27:29.395164Z",
     "shell.execute_reply.started": "2025-05-29T09:27:29.367623Z"
    }
   },
   "outputs": [],
   "source": [
    "# ---- STEP 4: Use fixed sun position at 10:15 CEST (Fribourg) ----\n",
    "# Sun position on May 2, 2025 at 10:15 CEST:\n",
    "alpha_deg = 36.2       # solar altitude\n",
    "azimuth_deg = 122.6    # solar azimuth\n",
    "window_azimuth_deg = 180  # south-facing window\n",
    "\n",
    "# Convert degrees to radians\n",
    "alpha = np.radians(alpha_deg)\n",
    "azimuth = np.radians(azimuth_deg)\n",
    "window_azimuth = np.radians(window_azimuth_deg)\n",
    "\n",
    "# ---- STEP 5: Compute solar components on the window ----\n",
    "\n",
    "# Use original column names for GHI and DHI\n",
    "GHI_col = 'CELLS/Outside/SPN1/Global'\n",
    "DHI_col = 'CELLS/Outside/SPN1/Diffuse'\n",
    "\n",
    "# Estimate DNI from horizontal components\n",
    "pyrano_filtered['DNI'] = (pyrano_filtered[GHI_col] - pyrano_filtered[DHI_col]) / np.sin(alpha)\n",
    "pyrano_filtered['DNI'] = pyrano_filtered['DNI'].clip(lower=0)\n",
    "\n",
    "# Compute incidence angle cosine (corrected formula for vertical window)\n",
    "cos_theta_i = np.cos(alpha) * np.cos(azimuth - window_azimuth)\n",
    "cos_theta_i = np.clip(cos_theta_i, 0, 1)\n",
    "\n",
    "\n",
    "# Beam and diffuse irradiance on the vertical window\n",
    "pyrano_filtered['I_beam_vert'] = pyrano_filtered['DNI'] * cos_theta_i\n",
    "pyrano_filtered['I_diffuse_vert'] = 0.5 * pyrano_filtered[DHI_col]\n",
    "pyrano_filtered['I_incident'] = pyrano_filtered['I_beam_vert'] + pyrano_filtered['I_diffuse_vert']\n",
    "\n"
   ]
  },
  {
   "cell_type": "code",
   "execution_count": 25,
   "id": "29b33d10-b658-4490-a81a-1e6f99b81ffa",
   "metadata": {
    "execution": {
     "iopub.execute_input": "2025-05-29T09:27:35.068241Z",
     "iopub.status.busy": "2025-05-29T09:27:35.067140Z",
     "iopub.status.idle": "2025-05-29T09:27:35.093576Z",
     "shell.execute_reply": "2025-05-29T09:27:35.089363Z",
     "shell.execute_reply.started": "2025-05-29T09:27:35.068139Z"
    }
   },
   "outputs": [
    {
     "name": "stdout",
     "output_type": "stream",
     "text": [
      "Diffuse fraction of incident irradiance: 13.62%\n",
      "Average transmitted irradiance (CUBE6): 8.20 W/m²\n",
      "Average incident irradiance on window: 425.93 W/m²\n",
      "Estimated g-value: 0.019\n"
     ]
    }
   ],
   "source": [
    "# ---- STEP 6: Show diffuse contribution ----\n",
    "diffuse_ratio = pyrano_filtered['I_diffuse_vert'].mean() / pyrano_filtered['I_incident'].mean()\n",
    "print(f\"Diffuse fraction of incident irradiance: {diffuse_ratio:.2%}\")\n",
    "\n",
    "\n",
    "\n",
    "# ---- STEP 8: Estimate g-value ----\n",
    "I_incident_avg = pyrano_filtered['I_incident'].mean()\n",
    "g_value = I_transmitted_CUBE6 / I_incident_avg\n",
    "\n",
    "print(f\"Average transmitted irradiance (CUBE6): {I_transmitted_CUBE6:.2f} W/m²\")\n",
    "print(f\"Average incident irradiance on window: {I_incident_avg:.2f} W/m²\")\n",
    "print(f\"Estimated g-value: {g_value:.3f}\")"
   ]
  },
  {
   "cell_type": "code",
   "execution_count": null,
   "id": "4b906909-c600-4531-9f11-7fa006c9e2c0",
   "metadata": {},
   "outputs": [],
   "source": []
  }
 ],
 "metadata": {
  "kernelspec": {
   "display_name": "Python3",
   "language": "python",
   "name": "python3"
  },
  "language_info": {
   "codemirror_mode": {
    "name": "ipython",
    "version": 3
   },
   "file_extension": ".py",
   "mimetype": "text/x-python",
   "name": "python",
   "nbconvert_exporter": "python",
   "pygments_lexer": "ipython3",
   "version": "3.12.5"
  }
 },
 "nbformat": 4,
 "nbformat_minor": 5
}
