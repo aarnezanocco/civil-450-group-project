{
 "cells": [
  {
   "cell_type": "code",
   "execution_count": 1,
   "id": "360ab467-b868-4c65-b815-4059f96c2133",
   "metadata": {
    "execution": {
     "iopub.execute_input": "2025-05-29T14:59:14.431477Z",
     "iopub.status.busy": "2025-05-29T14:59:14.429282Z",
     "iopub.status.idle": "2025-05-29T14:59:15.870369Z",
     "shell.execute_reply": "2025-05-29T14:59:15.868976Z",
     "shell.execute_reply.started": "2025-05-29T14:59:14.431389Z"
    }
   },
   "outputs": [],
   "source": [
    "import pandas as pd\n",
    "import numpy as np\n",
    "import matplotlib.pyplot as plt"
   ]
  },
  {
   "cell_type": "code",
   "execution_count": 2,
   "id": "826f7a09-37f0-4da1-bfa6-24530c7de8b4",
   "metadata": {
    "execution": {
     "iopub.execute_input": "2025-05-29T14:59:29.557354Z",
     "iopub.status.busy": "2025-05-29T14:59:29.555104Z",
     "iopub.status.idle": "2025-05-29T14:59:29.588669Z",
     "shell.execute_reply": "2025-05-29T14:59:29.586235Z",
     "shell.execute_reply.started": "2025-05-29T14:59:29.557262Z"
    }
   },
   "outputs": [],
   "source": [
    "# ---- STEP 1: Load pyranometer data ----\n",
    "# Update the path to your CSV file\n",
    "pyrano = pd.read_csv(\"Sunshine Pyranometer/25.05.02_CELLS_SPN1_global, diffuse.csv\")\n",
    "\n",
    "# Keep only rows between 10:10 and 10:25 \n",
    "pyrano_filtered = pyrano[(pyrano['timestamp.1'] >= '10:10:00') & (pyrano['timestamp.1'] <= '10:25:00')].copy()\n"
   ]
  },
  {
   "cell_type": "code",
   "execution_count": 3,
   "id": "c94ed7ed-9896-426f-9ada-af706d7d5d3c",
   "metadata": {
    "execution": {
     "iopub.execute_input": "2025-05-29T14:59:30.780349Z",
     "iopub.status.busy": "2025-05-29T14:59:30.778597Z",
     "iopub.status.idle": "2025-05-29T14:59:30.904122Z",
     "shell.execute_reply": "2025-05-29T14:59:30.902103Z",
     "shell.execute_reply.started": "2025-05-29T14:59:30.780267Z"
    }
   },
   "outputs": [],
   "source": [
    "# ---- STEP 2: Load CUBE6 data and compute average ----\n",
    "# Load CUBE6 data\n",
    "cube6 = pd.read_csv(\"New Cube Sensors/25.05.02_CUBE 6.csv\")\n",
    "\n",
    "# Define relevant column names\n",
    "time_col = ' HH:MM:SS'\n",
    "sw_col = ' SOUTH SW RADIANCE (W/m^2/sr)'\n",
    "\n",
    "# Filter by time window (string comparison is fine for this format)\n",
    "cube6_filtered = cube6[(cube6[time_col] >= '10:10:00') & (cube6[time_col] <= '10:25:00')].copy()\n",
    "\n",
    "# Convert HH:MM:SS to datetime.time so we can group by minute\n",
    "cube6_filtered.loc[:, 'minute'] = pd.to_datetime(cube6_filtered[time_col], format=\"%H:%M:%S\").dt.strftime('%H:%M')\n",
    "\n",
    "# Compute average SOUTH SW RADIANCE per minute\n",
    "minute_avg = cube6_filtered.groupby('minute')[sw_col].mean()\n",
    "\n",
    "# Compute overall mean of the minute-averaged values\n",
    "I_transmitted_CUBE6 = minute_avg.mean()\n",
    "\n",
    "\n",
    "# Print results\n",
    "#print(minute_avg)\n",
    "#print(f\"\\nFinal average SOUTH SW RADIANCE over 10:10–10:25 (minute-averaged): {I_transmitted_CUBE6:.2f} W/m²/sr\")"
   ]
  },
  {
   "cell_type": "code",
   "execution_count": 4,
   "id": "4d1ceff7-b561-476c-a7a0-0cca5fc58d23",
   "metadata": {
    "execution": {
     "iopub.execute_input": "2025-05-29T14:59:31.785172Z",
     "iopub.status.busy": "2025-05-29T14:59:31.782801Z",
     "iopub.status.idle": "2025-05-29T14:59:31.817267Z",
     "shell.execute_reply": "2025-05-29T14:59:31.812660Z",
     "shell.execute_reply.started": "2025-05-29T14:59:31.785085Z"
    }
   },
   "outputs": [],
   "source": [
    "# ---- STEP 4: Use fixed sun position at 10:15 CEST (Fribourg) ----\n",
    "# Sun position on May 2, 2025 at 10:15 CEST:\n",
    "alpha_deg = 36.2       # solar altitude\n",
    "azimuth_deg = 122.6    # solar azimuth\n",
    "window_azimuth_deg = 180  # south-facing window\n",
    "\n",
    "# Convert degrees to radians\n",
    "alpha = np.radians(alpha_deg)\n",
    "azimuth = np.radians(azimuth_deg)\n",
    "window_azimuth = np.radians(window_azimuth_deg)\n",
    "\n",
    "# ---- STEP 5: Compute solar components on the window ----\n",
    "\n",
    "# Use original column names for GHI and DHI\n",
    "GHI_col = 'CELLS/Outside/SPN1/Global'\n",
    "DHI_col = 'CELLS/Outside/SPN1/Diffuse'\n",
    "\n",
    "# Estimate DNI from horizontal components\n",
    "pyrano_filtered['DNI'] = (pyrano_filtered[GHI_col] - pyrano_filtered[DHI_col]) / np.sin(alpha)\n",
    "pyrano_filtered['DNI'] = pyrano_filtered['DNI'].clip(lower=0)\n",
    "\n",
    "# Compute incidence angle cosine (corrected formula for vertical window)\n",
    "cos_theta_i = np.cos(alpha) * np.cos(azimuth - window_azimuth)\n",
    "cos_theta_i = np.clip(cos_theta_i, 0, 1)\n",
    "\n",
    "\n",
    "# Beam and diffuse irradiance on the vertical window\n",
    "pyrano_filtered['I_beam_vert'] = pyrano_filtered['DNI'] * cos_theta_i\n",
    "pyrano_filtered['I_diffuse_vert'] = 0.5 * pyrano_filtered[DHI_col]\n",
    "pyrano_filtered['I_incident'] = pyrano_filtered['I_beam_vert'] + pyrano_filtered['I_diffuse_vert']\n",
    "\n"
   ]
  },
  {
   "cell_type": "code",
   "execution_count": 13,
   "id": "29b33d10-b658-4490-a81a-1e6f99b81ffa",
   "metadata": {
    "execution": {
     "iopub.execute_input": "2025-05-29T17:16:20.012780Z",
     "iopub.status.busy": "2025-05-29T17:16:20.010609Z",
     "iopub.status.idle": "2025-05-29T17:16:20.037814Z",
     "shell.execute_reply": "2025-05-29T17:16:20.035377Z",
     "shell.execute_reply.started": "2025-05-29T17:16:20.012691Z"
    }
   },
   "outputs": [
    {
     "name": "stdout",
     "output_type": "stream",
     "text": [
      "Diffuse fraction of incident irradiance: 13.62%\n",
      "Average transmitted irradiance (CUBE6): 8.20 W/m²\n",
      "Average incident irradiance on window: 425.93 W/m²\n",
      "Estimated g-value: 0.019\n"
     ]
    }
   ],
   "source": [
    "# ---- STEP 6: Show diffuse contribution ----\n",
    "diffuse_ratio = pyrano_filtered['I_diffuse_vert'].mean() / pyrano_filtered['I_incident'].mean()\n",
    "print(f\"Diffuse fraction of incident irradiance: {diffuse_ratio:.2%}\")\n",
    "\n",
    "\n",
    "\n",
    "# ---- STEP 8: Estimate g-value ----\n",
    "I_incident_avg = pyrano_filtered['I_incident'].mean()\n",
    "g_value = I_transmitted_CUBE6 / I_incident_avg\n",
    "\n",
    "print(f\"Average transmitted irradiance (CUBE6): {I_transmitted_CUBE6:.2f} W/m²\")\n",
    "print(f\"Average incident irradiance on window: {I_incident_avg:.2f} W/m²\")\n",
    "print(f\"Estimated g-value: {g_value:.3f}\")"
   ]
  },
  {
   "cell_type": "code",
   "execution_count": 21,
   "id": "79e2cf04-fcf9-437d-9fc3-bc4bded13049",
   "metadata": {
    "execution": {
     "iopub.execute_input": "2025-05-29T17:25:16.345298Z",
     "iopub.status.busy": "2025-05-29T17:25:16.344291Z",
     "iopub.status.idle": "2025-05-29T17:25:16.358833Z",
     "shell.execute_reply": "2025-05-29T17:25:16.356231Z",
     "shell.execute_reply.started": "2025-05-29T17:25:16.345220Z"
    }
   },
   "outputs": [],
   "source": [
    "def calculate_q_rad(T_glass_C, T_air_C, epsilon=0.9):\n",
    "    \"\"\"\n",
    "    Calculates longwave radiative heat transfer from glass to indoor air.\n",
    "\n",
    "    Parameters:\n",
    "    - T_glass_C (float): Glass surface temperature in °C\n",
    "    - T_air_C (float): Indoor air temperature in °C\n",
    "    - epsilon (float): Emissivity of the glass surface (default = 0.9)\n",
    "\n",
    "    Returns:\n",
    "    - Q_rad (float): Radiative heat flux in W/m²\n",
    "    \"\"\"\n",
    "    sigma = 5.67e-8  # Stefan-Boltzmann constant [W/m²·K⁴]\n",
    "    \n",
    "    # Convert temperatures to Kelvin\n",
    "    T_glass_K = T_glass_C + 273.15\n",
    "    T_air_K = T_air_C + 273.15\n",
    "    \n",
    "    # Compute radiative heat flux\n",
    "    Q_rad = epsilon * sigma * (T_glass_K**4 - T_air_K**4)\n",
    "    \n",
    "    return Q_rad"
   ]
  },
  {
   "cell_type": "code",
   "execution_count": 29,
   "id": "df961367-1e72-4529-90f8-55b1c9849424",
   "metadata": {
    "execution": {
     "iopub.execute_input": "2025-05-29T17:40:05.684253Z",
     "iopub.status.busy": "2025-05-29T17:40:05.682715Z",
     "iopub.status.idle": "2025-05-29T17:40:05.699735Z",
     "shell.execute_reply": "2025-05-29T17:40:05.697748Z",
     "shell.execute_reply.started": "2025-05-29T17:40:05.684170Z"
    }
   },
   "outputs": [
    {
     "name": "stdout",
     "output_type": "stream",
     "text": [
      "Average glass temperature: 27.05 °C\n",
      "Average air temperature: 26.55 °C\n"
     ]
    }
   ],
   "source": [
    "import numpy as np\n",
    "# glass temps from 10.10 to 10.25\n",
    "temps = np.array([\n",
    "    26.139, 26.256, 26.372, 26.444, 26.491, 26.584, 26.687, 26.813,\n",
    "    26.958, 27.102, 27.301, 27.541, 27.732, 27.931, 28.131, 28.333\n",
    "])\n",
    "\n",
    "# mean\n",
    "average_temp = np.mean(temps)\n",
    "\n",
    "print(f\"Average glass temperature: {average_temp:.2f} °C\")\n",
    "\n",
    "# avg temp for air from 10.10 to 10.25\n",
    "t_air_avg = 26.55\n",
    "\n",
    "print(f\"Average air temperature: {t_air_avg:.2f} °C\")"
   ]
  },
  {
   "cell_type": "code",
   "execution_count": 31,
   "id": "5f804afc-5fcf-4bd2-ab4d-c518b24adec4",
   "metadata": {
    "execution": {
     "iopub.execute_input": "2025-05-29T17:40:20.316493Z",
     "iopub.status.busy": "2025-05-29T17:40:20.314806Z",
     "iopub.status.idle": "2025-05-29T17:40:20.329757Z",
     "shell.execute_reply": "2025-05-29T17:40:20.327074Z",
     "shell.execute_reply.started": "2025-05-29T17:40:20.316411Z"
    }
   },
   "outputs": [
    {
     "name": "stdout",
     "output_type": "stream",
     "text": [
      "Q_rad = 2.754 W/m²\n"
     ]
    }
   ],
   "source": [
    "q_rad_glass = calculate_q_rad(T_glass_C=27.05, T_air_C=26.55)\n",
    "print(f\"Q_rad = {q_rad_glass:.3f} W/m²\")"
   ]
  },
  {
   "cell_type": "code",
   "execution_count": 32,
   "id": "78db6912-d331-4c28-a6dc-cae2e84f45a1",
   "metadata": {
    "execution": {
     "iopub.execute_input": "2025-05-29T17:40:25.693312Z",
     "iopub.status.busy": "2025-05-29T17:40:25.690346Z",
     "iopub.status.idle": "2025-05-29T17:40:25.709609Z",
     "shell.execute_reply": "2025-05-29T17:40:25.707246Z",
     "shell.execute_reply.started": "2025-05-29T17:40:25.693158Z"
    }
   },
   "outputs": [
    {
     "name": "stdout",
     "output_type": "stream",
     "text": [
      "-------------- Corrected Calculation -----------------\n",
      "Average transmitted irradiance (CUBE6): 25.77 W/m²\n",
      "Estimated radiative heat flux from window surface: 2.75 W/m²\n",
      "Average incident irradiance on window: 425.93 W/m²\n",
      "Estimated g-value: 0.067\n",
      "Estimated g-value:(percentage) 6.7%\n"
     ]
    }
   ],
   "source": [
    "# correct I_t and add q\n",
    "new_I_t = I_transmitted_CUBE6 * np.pi\n",
    "new_g = (new_I_t + q_rad_glass) / I_incident_avg\n",
    "print(\"-------------- Corrected Calculation -----------------\")\n",
    "print(f\"Average transmitted irradiance (CUBE6): {new_I_t:.2f} W/m²\")\n",
    "print(f\"Estimated radiative heat flux from window surface: {q_rad_glass:.2f} W/m²\")\n",
    "print(f\"Average incident irradiance on window: {I_incident_avg:.2f} W/m²\")\n",
    "print(f\"Estimated g-value: {new_g:.3f}\")\n",
    "perc = new_g * 100\n",
    "print(f\"Estimated g-value:(percentage) {perc:.1f}%\")"
   ]
  },
  {
   "cell_type": "code",
   "execution_count": null,
   "id": "d037ef02-8e25-4b22-b945-83f515204ae9",
   "metadata": {},
   "outputs": [],
   "source": []
  }
 ],
 "metadata": {
  "kernelspec": {
   "display_name": "Python3",
   "language": "python",
   "name": "python3"
  },
  "language_info": {
   "codemirror_mode": {
    "name": "ipython",
    "version": 3
   },
   "file_extension": ".py",
   "mimetype": "text/x-python",
   "name": "python",
   "nbconvert_exporter": "python",
   "pygments_lexer": "ipython3",
   "version": "3.12.5"
  }
 },
 "nbformat": 4,
 "nbformat_minor": 5
}
