{
 "cells": [
  {
   "cell_type": "code",
   "execution_count": 18,
   "id": "67bdf7f6-42c2-488d-ad7e-2aeee037769c",
   "metadata": {
    "execution": {
     "iopub.execute_input": "2025-05-24T12:49:40.905328Z",
     "iopub.status.busy": "2025-05-24T12:49:40.903121Z",
     "iopub.status.idle": "2025-05-24T12:49:40.920967Z",
     "shell.execute_reply": "2025-05-24T12:49:40.918486Z",
     "shell.execute_reply.started": "2025-05-24T12:49:40.905171Z"
    }
   },
   "outputs": [],
   "source": [
    "# Your libraries here\n",
    "import re\n",
    "import math\n",
    "import numpy as np\n",
    "import pandas as pd\n",
    "import seaborn as sns\n",
    "import matplotlib.pyplot as plt\n",
    "# tells matplotlib to embed plots within the notebook\n",
    "%matplotlib inline"
   ]
  },
  {
   "cell_type": "code",
   "execution_count": 25,
   "id": "f0babf95-19f1-4c03-9580-f86d9d1680cc",
   "metadata": {
    "execution": {
     "iopub.execute_input": "2025-05-22T23:37:14.696200Z",
     "iopub.status.busy": "2025-05-22T23:37:14.693407Z",
     "iopub.status.idle": "2025-05-22T23:37:14.820725Z",
     "shell.execute_reply": "2025-05-22T23:37:14.819197Z",
     "shell.execute_reply.started": "2025-05-22T23:37:14.696106Z"
    }
   },
   "outputs": [
    {
     "data": {
      "text/html": [
       "<div>\n",
       "<style scoped>\n",
       "    .dataframe tbody tr th:only-of-type {\n",
       "        vertical-align: middle;\n",
       "    }\n",
       "\n",
       "    .dataframe tbody tr th {\n",
       "        vertical-align: top;\n",
       "    }\n",
       "\n",
       "    .dataframe thead th {\n",
       "        text-align: right;\n",
       "    }\n",
       "</style>\n",
       "<table border=\"1\" class=\"dataframe\">\n",
       "  <thead>\n",
       "    <tr style=\"text-align: right;\">\n",
       "      <th></th>\n",
       "      <th>DEVICE NAME</th>\n",
       "      <th>DD-MM-YYYY</th>\n",
       "      <th>HH:MM:SS</th>\n",
       "      <th>TIMEZONE</th>\n",
       "      <th>DATA INTERVAL</th>\n",
       "      <th>MET RATE</th>\n",
       "      <th>CLO VALUE</th>\n",
       "      <th>LOCAL AIR CONTROL</th>\n",
       "      <th>SD STATE</th>\n",
       "      <th>MRT (*C)</th>\n",
       "      <th>...</th>\n",
       "      <th>EAST LW RADIANT TEMP (*C)</th>\n",
       "      <th>SOUTH LW RADIANT TEMP (*C)</th>\n",
       "      <th>WEST LW RADIANT TEMP (*C)</th>\n",
       "      <th>DOWN LW RADIANT TEMP (*C)</th>\n",
       "      <th>UP SW RADIANCE (W/m^2/sr)</th>\n",
       "      <th>NORTH SW RADIANCE (W/m^2/sr)</th>\n",
       "      <th>EAST SW RADIANCE (W/m^2/sr)</th>\n",
       "      <th>SOUTH SW RADIANCE (W/m^2/sr)</th>\n",
       "      <th>WEST SW RADIANCE (W/m^2/sr)</th>\n",
       "      <th>DOWN SW RADIANCE (W/m^2/sr)</th>\n",
       "    </tr>\n",
       "  </thead>\n",
       "  <tbody>\n",
       "    <tr>\n",
       "      <th>0</th>\n",
       "      <td>Comfort Cube</td>\n",
       "      <td>2/5/2025</td>\n",
       "      <td>8:19:45</td>\n",
       "      <td>EST</td>\n",
       "      <td>1</td>\n",
       "      <td>1.2</td>\n",
       "      <td>1.0</td>\n",
       "      <td>No</td>\n",
       "      <td>1</td>\n",
       "      <td>24.44</td>\n",
       "      <td>...</td>\n",
       "      <td>23.84</td>\n",
       "      <td>22.79</td>\n",
       "      <td>25.79</td>\n",
       "      <td>24.09</td>\n",
       "      <td>5.87</td>\n",
       "      <td>0.0</td>\n",
       "      <td>3.90</td>\n",
       "      <td>4.09</td>\n",
       "      <td>0.55</td>\n",
       "      <td>0.91</td>\n",
       "    </tr>\n",
       "    <tr>\n",
       "      <th>1</th>\n",
       "      <td>Comfort Cube</td>\n",
       "      <td>2/5/2025</td>\n",
       "      <td>8:19:50</td>\n",
       "      <td>EST</td>\n",
       "      <td>1</td>\n",
       "      <td>1.2</td>\n",
       "      <td>1.0</td>\n",
       "      <td>No</td>\n",
       "      <td>1</td>\n",
       "      <td>24.76</td>\n",
       "      <td>...</td>\n",
       "      <td>23.85</td>\n",
       "      <td>22.78</td>\n",
       "      <td>24.98</td>\n",
       "      <td>24.04</td>\n",
       "      <td>20.72</td>\n",
       "      <td>0.0</td>\n",
       "      <td>1.95</td>\n",
       "      <td>3.75</td>\n",
       "      <td>0.27</td>\n",
       "      <td>0.91</td>\n",
       "    </tr>\n",
       "    <tr>\n",
       "      <th>2</th>\n",
       "      <td>Comfort Cube</td>\n",
       "      <td>2/5/2025</td>\n",
       "      <td>8:19:51</td>\n",
       "      <td>EST</td>\n",
       "      <td>1</td>\n",
       "      <td>1.2</td>\n",
       "      <td>1.0</td>\n",
       "      <td>No</td>\n",
       "      <td>1</td>\n",
       "      <td>24.31</td>\n",
       "      <td>...</td>\n",
       "      <td>23.84</td>\n",
       "      <td>22.77</td>\n",
       "      <td>26.03</td>\n",
       "      <td>24.08</td>\n",
       "      <td>0.00</td>\n",
       "      <td>0.0</td>\n",
       "      <td>2.51</td>\n",
       "      <td>3.75</td>\n",
       "      <td>1.64</td>\n",
       "      <td>0.91</td>\n",
       "    </tr>\n",
       "    <tr>\n",
       "      <th>3</th>\n",
       "      <td>Comfort Cube</td>\n",
       "      <td>2/5/2025</td>\n",
       "      <td>8:19:52</td>\n",
       "      <td>EST</td>\n",
       "      <td>1</td>\n",
       "      <td>1.2</td>\n",
       "      <td>1.0</td>\n",
       "      <td>No</td>\n",
       "      <td>1</td>\n",
       "      <td>24.60</td>\n",
       "      <td>...</td>\n",
       "      <td>23.83</td>\n",
       "      <td>22.77</td>\n",
       "      <td>26.16</td>\n",
       "      <td>24.08</td>\n",
       "      <td>10.65</td>\n",
       "      <td>0.0</td>\n",
       "      <td>3.25</td>\n",
       "      <td>2.55</td>\n",
       "      <td>1.37</td>\n",
       "      <td>0.76</td>\n",
       "    </tr>\n",
       "    <tr>\n",
       "      <th>4</th>\n",
       "      <td>Comfort Cube</td>\n",
       "      <td>2/5/2025</td>\n",
       "      <td>8:19:53</td>\n",
       "      <td>EST</td>\n",
       "      <td>1</td>\n",
       "      <td>1.2</td>\n",
       "      <td>1.0</td>\n",
       "      <td>No</td>\n",
       "      <td>1</td>\n",
       "      <td>25.38</td>\n",
       "      <td>...</td>\n",
       "      <td>23.83</td>\n",
       "      <td>22.76</td>\n",
       "      <td>26.22</td>\n",
       "      <td>24.09</td>\n",
       "      <td>39.37</td>\n",
       "      <td>0.0</td>\n",
       "      <td>2.23</td>\n",
       "      <td>3.41</td>\n",
       "      <td>1.64</td>\n",
       "      <td>0.00</td>\n",
       "    </tr>\n",
       "  </tbody>\n",
       "</table>\n",
       "<p>5 rows × 40 columns</p>\n",
       "</div>"
      ],
      "text/plain": [
       "    DEVICE NAME  DD-MM-YYYY  HH:MM:SS  TIMEZONE   DATA INTERVAL   MET RATE  \\\n",
       "0  Comfort Cube    2/5/2025   8:19:45       EST               1        1.2   \n",
       "1  Comfort Cube    2/5/2025   8:19:50       EST               1        1.2   \n",
       "2  Comfort Cube    2/5/2025   8:19:51       EST               1        1.2   \n",
       "3  Comfort Cube    2/5/2025   8:19:52       EST               1        1.2   \n",
       "4  Comfort Cube    2/5/2025   8:19:53       EST               1        1.2   \n",
       "\n",
       "    CLO VALUE  LOCAL AIR CONTROL   SD STATE   MRT (*C)  ...  \\\n",
       "0         1.0                 No          1      24.44  ...   \n",
       "1         1.0                 No          1      24.76  ...   \n",
       "2         1.0                 No          1      24.31  ...   \n",
       "3         1.0                 No          1      24.60  ...   \n",
       "4         1.0                 No          1      25.38  ...   \n",
       "\n",
       "    EAST LW RADIANT TEMP (*C)   SOUTH LW RADIANT TEMP (*C)  \\\n",
       "0                       23.84                        22.79   \n",
       "1                       23.85                        22.78   \n",
       "2                       23.84                        22.77   \n",
       "3                       23.83                        22.77   \n",
       "4                       23.83                        22.76   \n",
       "\n",
       "    WEST LW RADIANT TEMP (*C)   DOWN LW RADIANT TEMP (*C)  \\\n",
       "0                       25.79                       24.09   \n",
       "1                       24.98                       24.04   \n",
       "2                       26.03                       24.08   \n",
       "3                       26.16                       24.08   \n",
       "4                       26.22                       24.09   \n",
       "\n",
       "    UP SW RADIANCE (W/m^2/sr)   NORTH SW RADIANCE (W/m^2/sr)  \\\n",
       "0                        5.87                            0.0   \n",
       "1                       20.72                            0.0   \n",
       "2                        0.00                            0.0   \n",
       "3                       10.65                            0.0   \n",
       "4                       39.37                            0.0   \n",
       "\n",
       "    EAST SW RADIANCE (W/m^2/sr)   SOUTH SW RADIANCE (W/m^2/sr)  \\\n",
       "0                          3.90                           4.09   \n",
       "1                          1.95                           3.75   \n",
       "2                          2.51                           3.75   \n",
       "3                          3.25                           2.55   \n",
       "4                          2.23                           3.41   \n",
       "\n",
       "    WEST SW RADIANCE (W/m^2/sr)   DOWN SW RADIANCE (W/m^2/sr)  \n",
       "0                          0.55                          0.91  \n",
       "1                          0.27                          0.91  \n",
       "2                          1.64                          0.91  \n",
       "3                          1.37                          0.76  \n",
       "4                          1.64                          0.00  \n",
       "\n",
       "[5 rows x 40 columns]"
      ]
     },
     "metadata": {},
     "output_type": "display_data"
    },
    {
     "data": {
      "text/plain": [
       "Index(['DEVICE NAME', ' DD-MM-YYYY', ' HH:MM:SS', ' TIMEZONE',\n",
       "       ' DATA INTERVAL', ' MET RATE', ' CLO VALUE', ' LOCAL AIR CONTROL',\n",
       "       ' SD STATE', ' MRT (*C)', ' LONGWAVE RADIANCE (*C)',\n",
       "       ' SHORTWAVE RADIANCE (*C)', ' AIR TEMP (*C)', ' HUMIDITY (%)',\n",
       "       ' AIR SPEED (m/s)', ' WIND COOLING EFFECT (*C)',\n",
       "       ' STANDARD EFFECTIVE TEMP (*C)', ' OPERATIVE TEMP (*C)',\n",
       "       ' WETBULB GLOBE TEMP (*C)', ' CO2 (ppm)', ' VOC INDEX', ' NOX INDEX',\n",
       "       ' ASHRAE-55 PASS/FAIL', ' EN-16798 PASS/FAIL', ' EN-16798 CATEGORY',\n",
       "       ' PASS/FAIL REASONS', ' PPD ASHRAE-55', ' PMV ASHRAE-55',\n",
       "       ' UP LW RADIANT TEMP (*C)', ' NORTH LW RADIANT TEMP (*C)',\n",
       "       ' EAST LW RADIANT TEMP (*C)', ' SOUTH LW RADIANT TEMP (*C)',\n",
       "       ' WEST LW RADIANT TEMP (*C)', ' DOWN LW RADIANT TEMP (*C)',\n",
       "       ' UP SW RADIANCE (W/m^2/sr)', ' NORTH SW RADIANCE (W/m^2/sr)',\n",
       "       ' EAST SW RADIANCE (W/m^2/sr)', ' SOUTH SW RADIANCE (W/m^2/sr)',\n",
       "       ' WEST SW RADIANCE (W/m^2/sr)', ' DOWN SW RADIANCE (W/m^2/sr)'],\n",
       "      dtype='object')"
      ]
     },
     "metadata": {},
     "output_type": "display_data"
    }
   ],
   "source": [
    "df = pd.read_csv(\"New Cube Sensors/25.05.02_CUBE 6.csv\", encoding=\"iso-8859-9\")\n",
    "display(df.head())\n",
    "display(df.columns)\n",
    "\n",
    "#df2= pd.read_excel(\"civil-450-group-project/Lab2/New Cube Sensors/25.05.02_CUBE 6.csv\")\n",
    "# display(df2)"
   ]
  },
  {
   "cell_type": "code",
   "execution_count": 19,
   "id": "c39eae6e-b217-4716-807e-344500204a59",
   "metadata": {
    "execution": {
     "iopub.execute_input": "2025-05-24T12:49:48.314139Z",
     "iopub.status.busy": "2025-05-24T12:49:48.313095Z",
     "iopub.status.idle": "2025-05-24T12:49:48.328992Z",
     "shell.execute_reply": "2025-05-24T12:49:48.325734Z",
     "shell.execute_reply.started": "2025-05-24T12:49:48.314052Z"
    }
   },
   "outputs": [],
   "source": [
    "# functions\n",
    "def calculate_f_cl(I_cl):\n",
    "    \"\"\"\n",
    "    Calculates clothing factor (f_cl).\n",
    "    I_cl: Clothing insulation [clo]\n",
    "    \"\"\"    \n",
    "    if I_cl <= 0.5:\n",
    "        f_cl = 1 + 0.31 * I_cl\n",
    "    else:\n",
    "        f_cl = 1.05 + 0.645 * I_cl\n",
    "    return f_cl"
   ]
  },
  {
   "cell_type": "code",
   "execution_count": 20,
   "id": "833d1e8f-051e-4311-a527-b8bcc68d773c",
   "metadata": {
    "execution": {
     "iopub.execute_input": "2025-05-24T12:49:48.936674Z",
     "iopub.status.busy": "2025-05-24T12:49:48.935717Z",
     "iopub.status.idle": "2025-05-24T12:49:48.954954Z",
     "shell.execute_reply": "2025-05-24T12:49:48.952399Z",
     "shell.execute_reply.started": "2025-05-24T12:49:48.936596Z"
    }
   },
   "outputs": [
    {
     "data": {
      "text/plain": [
       "1.1178"
      ]
     },
     "execution_count": 20,
     "metadata": {},
     "output_type": "execute_result"
    }
   ],
   "source": [
    "calculate_f_cl(0.38)"
   ]
  },
  {
   "cell_type": "code",
   "execution_count": 21,
   "id": "2c8bb3d6-b9a9-4aeb-8beb-f3ed9eab9bfa",
   "metadata": {
    "execution": {
     "iopub.execute_input": "2025-05-24T12:49:49.426181Z",
     "iopub.status.busy": "2025-05-24T12:49:49.425165Z",
     "iopub.status.idle": "2025-05-24T12:49:49.439684Z",
     "shell.execute_reply": "2025-05-24T12:49:49.436754Z",
     "shell.execute_reply.started": "2025-05-24T12:49:49.426098Z"
    }
   },
   "outputs": [],
   "source": [
    "def calculate_h_conv(v_a):\n",
    "    if v_a < 0.2:\n",
    "        return 3.1 \n",
    "    else:\n",
    "        return 8.3 * (v_a)**(0.6)"
   ]
  },
  {
   "cell_type": "code",
   "execution_count": 22,
   "id": "b073038a-61ea-48fb-86fd-7581b8f1a90b",
   "metadata": {
    "execution": {
     "iopub.execute_input": "2025-05-24T12:49:49.918135Z",
     "iopub.status.busy": "2025-05-24T12:49:49.917214Z",
     "iopub.status.idle": "2025-05-24T12:49:49.932543Z",
     "shell.execute_reply": "2025-05-24T12:49:49.930141Z",
     "shell.execute_reply.started": "2025-05-24T12:49:49.918059Z"
    }
   },
   "outputs": [
    {
     "data": {
      "text/plain": [
       "3.4364877014334163"
      ]
     },
     "execution_count": 22,
     "metadata": {},
     "output_type": "execute_result"
    }
   ],
   "source": [
    "calculate_h_conv(0.23)"
   ]
  },
  {
   "cell_type": "code",
   "execution_count": 23,
   "id": "4520a54c-9923-401d-9f56-159908450ea6",
   "metadata": {
    "execution": {
     "iopub.execute_input": "2025-05-24T12:49:50.400128Z",
     "iopub.status.busy": "2025-05-24T12:49:50.399032Z",
     "iopub.status.idle": "2025-05-24T12:49:50.410688Z",
     "shell.execute_reply": "2025-05-24T12:49:50.408738Z",
     "shell.execute_reply.started": "2025-05-24T12:49:50.400045Z"
    }
   },
   "outputs": [],
   "source": [
    "def Q_rad(h_rad, f_cl, T_cl, T_mrt):\n",
    "    \"\"\"\n",
    "    Radiative heat loss from the body.\n",
    "    T_cl, T_mrt: [°C]\n",
    "    Returns Q_rad in [W/m²]\n",
    "    \"\"\"\n",
    "    return h_rad * f_cl * (T_cl - T_mrt)"
   ]
  },
  {
   "cell_type": "code",
   "execution_count": 24,
   "id": "4c73c0b9-52c5-4ae3-9cfc-74fdc910dd1f",
   "metadata": {
    "execution": {
     "iopub.execute_input": "2025-05-24T12:49:50.990672Z",
     "iopub.status.busy": "2025-05-24T12:49:50.989744Z",
     "iopub.status.idle": "2025-05-24T12:49:51.006375Z",
     "shell.execute_reply": "2025-05-24T12:49:51.004070Z",
     "shell.execute_reply.started": "2025-05-24T12:49:50.990594Z"
    }
   },
   "outputs": [
    {
     "data": {
      "text/plain": [
       "2.62706697360001"
      ]
     },
     "execution_count": 24,
     "metadata": {},
     "output_type": "execute_result"
    }
   ],
   "source": [
    "Q_rad(5.636, 1.1178, 23.917, 23.5)"
   ]
  },
  {
   "cell_type": "code",
   "execution_count": 25,
   "id": "b6dc2918-b5d7-4232-8112-1b6a2b2d5b6e",
   "metadata": {
    "execution": {
     "iopub.execute_input": "2025-05-24T12:49:51.490700Z",
     "iopub.status.busy": "2025-05-24T12:49:51.489804Z",
     "iopub.status.idle": "2025-05-24T12:49:51.502768Z",
     "shell.execute_reply": "2025-05-24T12:49:51.500359Z",
     "shell.execute_reply.started": "2025-05-24T12:49:51.490622Z"
    }
   },
   "outputs": [],
   "source": [
    "def Q_conv_skin(h_c, f_cl, T_cl, T_air):\n",
    "    \"\"\"\n",
    "    Convective heat loss from clothing surface.\n",
    "    Returns Q_conv_skin in [W/m²]\n",
    "    \"\"\"\n",
    "    return h_c * f_cl * (T_cl - T_air)"
   ]
  },
  {
   "cell_type": "code",
   "execution_count": 26,
   "id": "1f363d91-8519-47fe-95c8-022c76013018",
   "metadata": {
    "execution": {
     "iopub.execute_input": "2025-05-24T12:49:51.999124Z",
     "iopub.status.busy": "2025-05-24T12:49:51.998151Z",
     "iopub.status.idle": "2025-05-24T12:49:52.013671Z",
     "shell.execute_reply": "2025-05-24T12:49:52.011271Z",
     "shell.execute_reply.started": "2025-05-24T12:49:51.999043Z"
    }
   },
   "outputs": [
    {
     "data": {
      "text/plain": [
       "-3.752789939999994"
      ]
     },
     "execution_count": 26,
     "metadata": {},
     "output_type": "execute_result"
    }
   ],
   "source": [
    "Q_conv_skin(3.1, 1.1178, 23.917, 25)"
   ]
  },
  {
   "cell_type": "code",
   "execution_count": 27,
   "id": "8658c974-d6a1-4b14-ad56-186b173f7b86",
   "metadata": {
    "execution": {
     "iopub.execute_input": "2025-05-24T12:49:52.545246Z",
     "iopub.status.busy": "2025-05-24T12:49:52.543011Z",
     "iopub.status.idle": "2025-05-24T12:49:52.568329Z",
     "shell.execute_reply": "2025-05-24T12:49:52.566358Z",
     "shell.execute_reply.started": "2025-05-24T12:49:52.545128Z"
    }
   },
   "outputs": [],
   "source": [
    "def iterate_T_cl(t_skin, t_air, t_mrt, I_cl, v_a, epsilon=0.95, max_iter=100, tol=0.01):\n",
    "    \"\"\"\n",
    "\n",
    "Clothing temperature (T_cl) and h_rad are calculated with iterative solution.\n",
    "\n",
    "All temperatures [°C], output T_cl [°C], h_rad [W/m2K]\n",
    "    \"\"\"\n",
    "    # Initial Guess\n",
    "    t_cl = (t_skin + t_air) / 2\n",
    "    sigma = 5.67e-8  # Stefan-Boltzmann constant\n",
    "    f_cl = calculate_f_cl(I_cl)\n",
    "    R_cl = I_cl * 0.155  # [m2K/W]\n",
    "    f_eff = 0.72 # o The effective radiation area factor f_eff estimated as 0.72 for sitting person\n",
    "\n",
    "    for i in range(max_iter):\n",
    "\n",
    "        # calculate h_rad \n",
    "        h_rad = 4 * epsilon * sigma * f_eff * (273.15 + ((t_cl + t_mrt) / 2))**3\n",
    "\n",
    "        # Convective heat transfer coefficient\n",
    "#        if v_a < 0.2:\n",
    "#            h_conv = 3.1 \n",
    "#        else:\n",
    "#            h_conv = 8.3 * (v_a)**(0.6)\n",
    "        \n",
    "        h_conv = calculate_h_conv(v_a)\n",
    "\n",
    "        # Calculate new T_cl\n",
    "        # T_cl_new = T_skin - ( (T_skin - T_air) + (T_skin - T_mrt) ) / (1 + f_cl * h_total * R_cl)\n",
    "        #T_cl_new = T_skin - R_cl * (h_conv * f_cl * (T_cl - T_air) + h_rad * f_cl * (T_cl - T_mrt))\n",
    "\n",
    "        Q_radi = Q_rad(h_rad, f_cl, t_cl, t_mrt)\n",
    "        Q_conv = Q_conv_skin(h_conv, f_cl, t_cl, t_air)\n",
    "\n",
    "        t_cl_new = t_skin - R_cl * (Q_radi + Q_conv)\n",
    "\n",
    "        # Check error\n",
    "        if abs(t_cl_new - t_cl) < tol:\n",
    "            break\n",
    "        t_cl = t_cl_new\n",
    "\n",
    "    return t_cl, h_rad, Q_radi, Q_conv"
   ]
  },
  {
   "cell_type": "code",
   "execution_count": 28,
   "id": "5ba1721e-4bba-467c-ad85-913a0254ed36",
   "metadata": {
    "execution": {
     "iopub.execute_input": "2025-05-24T12:49:53.260387Z",
     "iopub.status.busy": "2025-05-24T12:49:53.257971Z",
     "iopub.status.idle": "2025-05-24T12:49:53.276494Z",
     "shell.execute_reply": "2025-05-24T12:49:53.273830Z",
     "shell.execute_reply.started": "2025-05-24T12:49:53.260302Z"
    }
   },
   "outputs": [
    {
     "data": {
      "text/plain": [
       "(28.552571722463334, 4.154135428903886, 23.46157931544781, 35.23737233498591)"
      ]
     },
     "execution_count": 28,
     "metadata": {},
     "output_type": "execute_result"
    }
   ],
   "source": [
    "iterate_T_cl(32, 25, 23.5, 0.38, 1.1178, epsilon=0.95, max_iter=100, tol=0.01)"
   ]
  },
  {
   "cell_type": "code",
   "execution_count": 29,
   "id": "826c4eac-2b66-4e29-a805-7732fc0d140c",
   "metadata": {
    "execution": {
     "iopub.execute_input": "2025-05-24T12:49:53.809738Z",
     "iopub.status.busy": "2025-05-24T12:49:53.808760Z",
     "iopub.status.idle": "2025-05-24T12:49:53.821893Z",
     "shell.execute_reply": "2025-05-24T12:49:53.819230Z",
     "shell.execute_reply.started": "2025-05-24T12:49:53.809658Z"
    }
   },
   "outputs": [],
   "source": [
    "def Q_conv_resp(M, T_air):\n",
    "    \"\"\"\n",
    "    Convective heat loss via respiration.\n",
    "    M: metabolic rate [W/m²]\n",
    "    Returns Q_conv_resp in [W/m²]\n",
    "    \"\"\"\n",
    "    return 0.0014 * M * (34 - T_air)"
   ]
  },
  {
   "cell_type": "code",
   "execution_count": 30,
   "id": "f8327b8c-8e86-44c7-a06f-d6cd27f16471",
   "metadata": {
    "execution": {
     "iopub.execute_input": "2025-05-24T12:49:54.432248Z",
     "iopub.status.busy": "2025-05-24T12:49:54.431326Z",
     "iopub.status.idle": "2025-05-24T12:49:54.482092Z",
     "shell.execute_reply": "2025-05-24T12:49:54.479975Z",
     "shell.execute_reply.started": "2025-05-24T12:49:54.432171Z"
    }
   },
   "outputs": [
    {
     "ename": "NameError",
     "evalue": "name 'df' is not defined",
     "output_type": "error",
     "traceback": [
      "\u001b[0;31m---------------------------------------------------------------------------\u001b[0m",
      "\u001b[0;31mNameError\u001b[0m                                 Traceback (most recent call last)",
      "Cell \u001b[0;32mIn[30], line 3\u001b[0m\n\u001b[1;32m      1\u001b[0m \u001b[38;5;66;03m# convective res\u001b[39;00m\n\u001b[1;32m      2\u001b[0m M \u001b[38;5;241m=\u001b[39m \u001b[38;5;241m58.2\u001b[39m\n\u001b[0;32m----> 3\u001b[0m ta \u001b[38;5;241m=\u001b[39m \u001b[43mdf\u001b[49m[\u001b[38;5;124m\"\u001b[39m\u001b[38;5;124mT_air (Â°C)\u001b[39m\u001b[38;5;124m\"\u001b[39m]\n\u001b[1;32m      4\u001b[0m q_conv_res \u001b[38;5;241m=\u001b[39m Q_conv_resp(M, ta)\n\u001b[1;32m      5\u001b[0m display(q_conv_res)\n",
      "\u001b[0;31mNameError\u001b[0m: name 'df' is not defined"
     ]
    }
   ],
   "source": [
    "# convective res\n",
    "M = 58.2\n",
    "ta = df[\"T_air (Â°C)\"]\n",
    "q_conv_res = Q_conv_resp(M, ta)\n",
    "display(q_conv_res)"
   ]
  },
  {
   "cell_type": "code",
   "execution_count": 31,
   "id": "7b18391b-4ce1-4903-8931-20064bb207e1",
   "metadata": {
    "execution": {
     "iopub.execute_input": "2025-05-24T12:50:00.832542Z",
     "iopub.status.busy": "2025-05-24T12:50:00.829932Z",
     "iopub.status.idle": "2025-05-24T12:50:00.847183Z",
     "shell.execute_reply": "2025-05-24T12:50:00.845318Z",
     "shell.execute_reply.started": "2025-05-24T12:50:00.832454Z"
    }
   },
   "outputs": [],
   "source": [
    "def find_pressures(t_air, t_skin, rh):\n",
    "    \"\"\"\n",
    "    finds p_v,sat and p_v\n",
    "    \"\"\"\n",
    "    p_v_sat_skin = 611 * np.exp((17.08 * t_skin) / (234.18 + t_skin))  # Pa\n",
    "    p_v_sat_air = 611 * np.exp((17.08 * t_air) / (234.18 + t_air))  # Pa\n",
    "    p_v_air = rh * p_v_sat_air\n",
    "\n",
    "    return p_v_sat_skin / 1000, p_v_air / 1000\n",
    "\n",
    "def calculate_Q_evap_resp(M, p_air_kPa):\n",
    "    \"\"\"\n",
    "    Evaporative heat loss via respiration\n",
    "    p_air in [kPa]\n",
    "    Returns Q_E_resp in W/m²\n",
    "    \"\"\"\n",
    "    return 0.0173 * M * (5.87 - p_air_kPa)\n",
    "\n",
    "\n",
    "def calculate_Q_evap_skin(w, p_sat_skin, p_air, R_cl, f_cl, h_conv, LR=16.5):\n",
    "    \"\"\"\n",
    "    Evaporative heat loss from the skin surface\n",
    "    All pressures in Pa\n",
    "    Returns Q_E_skin in W/m²\n",
    "    p_v_skin –-> water vapour pressure at the skin (normally\n",
    "assumed to be saturated water vapour pressure p_v_sat at the\n",
    "skin temperature t_skin )\n",
    "\n",
    "    \"\"\"\n",
    "    h_e = LR * h_conv\n",
    "    resistance = R_cl + 1 / (f_cl * h_e)\n",
    "    return w * (p_sat_skin - p_air) / resistance"
   ]
  },
  {
   "cell_type": "code",
   "execution_count": 32,
   "id": "2854ef3f-6a8c-4b41-9d7b-5585097aef59",
   "metadata": {
    "execution": {
     "iopub.execute_input": "2025-05-24T12:50:01.657185Z",
     "iopub.status.busy": "2025-05-24T12:50:01.656152Z",
     "iopub.status.idle": "2025-05-24T12:50:01.675222Z",
     "shell.execute_reply": "2025-05-24T12:50:01.672569Z",
     "shell.execute_reply.started": "2025-05-24T12:50:01.657100Z"
    }
   },
   "outputs": [
    {
     "data": {
      "text/plain": [
       "(4.762101389082458, 1.4609440137226615)"
      ]
     },
     "metadata": {},
     "output_type": "display_data"
    }
   ],
   "source": [
    "h = find_pressures(24.3, 32, 0.48)\n",
    "display(h)"
   ]
  },
  {
   "cell_type": "code",
   "execution_count": 33,
   "id": "7743e9e3-b796-46d8-82a4-a627eb34e78d",
   "metadata": {
    "execution": {
     "iopub.execute_input": "2025-05-24T12:50:02.360048Z",
     "iopub.status.busy": "2025-05-24T12:50:02.359105Z",
     "iopub.status.idle": "2025-05-24T12:50:02.376125Z",
     "shell.execute_reply": "2025-05-24T12:50:02.374189Z",
     "shell.execute_reply.started": "2025-05-24T12:50:02.359969Z"
    }
   },
   "outputs": [],
   "source": [
    "from scipy.interpolate import interp1d\n",
    "import numpy as np\n",
    "\n",
    "# calculating L_v for intermediate values\n",
    "# Sıcaklık ve L_v kolonlarını al\n",
    "T_vals = df5['t_a [oC]'].values\n",
    "Lv_vals = df5['L_v [kJ/kg]'].values\n",
    "\n",
    "# Linear interpolation\n",
    "Lv_interp_function = interp1d(T_vals, Lv_vals, kind='linear', fill_value='extrapolate')\n",
    "\n",
    "# main function for L_v\n",
    "def get_Lv(T):\n",
    "    \"\"\"\n",
    "Returns the latent heat of vaporization (L_v) [kJ/kg] for the specified temperature(s) (°C). \n",
    "T can be a scalar or an array.\n",
    "    \"\"\"\n",
    "    return Lv_interp_function(T)"
   ]
  },
  {
   "cell_type": "code",
   "execution_count": 34,
   "id": "d0b007ec-b944-4a57-af79-779c39176901",
   "metadata": {
    "execution": {
     "iopub.execute_input": "2025-05-24T12:50:03.267041Z",
     "iopub.status.busy": "2025-05-24T12:50:03.266088Z",
     "iopub.status.idle": "2025-05-24T12:50:03.295304Z",
     "shell.execute_reply": "2025-05-24T12:50:03.293217Z",
     "shell.execute_reply.started": "2025-05-24T12:50:03.266960Z"
    }
   },
   "outputs": [],
   "source": [
    "def calculate_t_b(T_sk, T_core, alpha=0.2):\n",
    "    return alpha * T_sk + (1 - alpha) * T_core\n",
    "\n",
    "def calculate_M_rsw(T_sk, T_b):\n",
    "    return 4.7e-5 * (T_b - 36.18) * np.exp((T_sk - 33.7) / 10.7)\n",
    "\n",
    "def calculate_Q_E_rsw(M_rsw, Lv):\n",
    "    return M_rsw * Lv  # Lv [kJ/kg], Q [W/m²]\n",
    "\n",
    "def calculate_Q_E_max(p_v_sk, p_v_a, R_v_cl, f_cl, h_e):\n",
    "    resistance = R_v_cl + 1 / (f_cl * h_e)\n",
    "    return (p_v_sk - p_v_a) / resistance\n",
    "\n",
    "def calculate_w(Q_E_rsw, Q_E_max):\n",
    "    return 0.06 + Q_E_rsw / Q_E_max\n",
    "\n",
    "def calculate_Q_E_skin(w, p_v_sk, p_v_a, R_v_cl, f_cl, h_e):\n",
    "    resistance = R_v_cl + 1 / (f_cl * h_e)\n",
    "    return w * (p_v_sk - p_v_a) / resistance\n",
    "\n",
    "\n",
    "# main function\n",
    "def calculate_all_Q_E_skin(T_sk, T_core, Lv, R_v_cl, f_cl, h_conv, T_air, RH, alpha=0.2):\n",
    "    \"\"\"\n",
    "    All procedure: Q_E_skin calculation (W/m²)\n",
    "    \"\"\"\n",
    "    # 1. Mean body temp\n",
    "    T_b = calculate_t_b(T_sk, T_core, alpha)\n",
    "\n",
    "    # 2. Sweat rate\n",
    "    M_rsw = calculate_M_rsw(T_sk, T_b)\n",
    "\n",
    "    # 3. Regulatory evaporation\n",
    "    Q_E_rsw = calculate_Q_E_rsw(M_rsw, Lv)\n",
    "\n",
    "    # 4. Evaporative transfer coeff\n",
    "    LR = 16.5  # typical value\n",
    "    h_e = LR * h_conv\n",
    "\n",
    "    # 5. Vapor pressures\n",
    "    p_v_sk, p_v_a = find_pressures(T_air, T_sk, RH)  # kPa\n",
    "\n",
    "    # 6. Max evaporation\n",
    "    Q_E_max = calculate_Q_E_max(p_v_sk, p_v_a, R_v_cl, f_cl, h_e)\n",
    "\n",
    "    # 7. Wettedness\n",
    "    w = calculate_w(Q_E_rsw, Q_E_max)\n",
    "\n",
    "    # 8. Final Q_E_skin\n",
    "    Q_E_skin = calculate_Q_E_skin(w, p_v_sk, p_v_a, R_v_cl, f_cl, h_e)\n",
    "\n",
    "    return {\n",
    "        \"Q_E_skin\": Q_E_skin,\n",
    "        \"w\": w,\n",
    "        \"Q_E_rsw\": Q_E_rsw,\n",
    "        \"Q_E_max\": Q_E_max,\n",
    "        \"M_rsw\": M_rsw,\n",
    "        \"T_b\": T_b,\n",
    "        \"p_v_sk\": p_v_sk,\n",
    "        \"p_v_a\": p_v_a,\n",
    "        \"h_e\": h_e\n",
    "    }"
   ]
  },
  {
   "cell_type": "code",
   "execution_count": 35,
   "id": "ed630abf-9ad7-437e-b333-627c0eee545c",
   "metadata": {
    "execution": {
     "iopub.execute_input": "2025-05-24T12:50:04.141051Z",
     "iopub.status.busy": "2025-05-24T12:50:04.139973Z",
     "iopub.status.idle": "2025-05-24T12:50:04.157586Z",
     "shell.execute_reply": "2025-05-24T12:50:04.155301Z",
     "shell.execute_reply.started": "2025-05-24T12:50:04.140857Z"
    }
   },
   "outputs": [
    {
     "data": {
      "text/plain": [
       "{'Q_E_skin': -0.062201054131341006,\n",
       " 'w': -0.37886162309258575,\n",
       " 'Q_E_rsw': -0.07205178331688436,\n",
       " 'Q_E_max': 0.1641788197590559,\n",
       " 'M_rsw': -2.9650939636577926e-05,\n",
       " 'T_b': 35.0,\n",
       " 'p_v_sk': 3.57162445735171,\n",
       " 'p_v_a': 1.1060763108793081,\n",
       " 'h_e': 51.15}"
      ]
     },
     "execution_count": 35,
     "metadata": {},
     "output_type": "execute_result"
    }
   ],
   "source": [
    "calculate_all_Q_E_skin(27, 37, 2430, 15, 1.12, 3.1, 24, 0.37, alpha=0.2)"
   ]
  },
  {
   "cell_type": "markdown",
   "id": "ea399590-3951-43e8-be1f-9b9a8d820d5b",
   "metadata": {},
   "source": [
    "\n",
    "#################\n",
    "Until here, we defined the function that we will use. Now, we will write the main function that calculates the real values\n",
    "#################"
   ]
  },
  {
   "cell_type": "code",
   "execution_count": 36,
   "id": "4ad3cc07-1c66-4636-a49f-641d233a2afc",
   "metadata": {
    "execution": {
     "iopub.execute_input": "2025-05-24T12:50:05.553934Z",
     "iopub.status.busy": "2025-05-24T12:50:05.552000Z",
     "iopub.status.idle": "2025-05-24T12:50:05.887592Z",
     "shell.execute_reply": "2025-05-24T12:50:05.886258Z",
     "shell.execute_reply.started": "2025-05-24T12:50:05.553791Z"
    }
   },
   "outputs": [
    {
     "data": {
      "text/html": [
       "<div>\n",
       "<style scoped>\n",
       "    .dataframe tbody tr th:only-of-type {\n",
       "        vertical-align: middle;\n",
       "    }\n",
       "\n",
       "    .dataframe tbody tr th {\n",
       "        vertical-align: top;\n",
       "    }\n",
       "\n",
       "    .dataframe thead th {\n",
       "        text-align: right;\n",
       "    }\n",
       "</style>\n",
       "<table border=\"1\" class=\"dataframe\">\n",
       "  <thead>\n",
       "    <tr style=\"text-align: right;\">\n",
       "      <th></th>\n",
       "      <th>DEVICE NAME</th>\n",
       "      <th>DD-MM-YYYY</th>\n",
       "      <th>HH:MM:SS</th>\n",
       "      <th>TIMEZONE</th>\n",
       "      <th>DATA INTERVAL</th>\n",
       "      <th>MET RATE</th>\n",
       "      <th>CLO VALUE</th>\n",
       "      <th>LOCAL AIR CONTROL</th>\n",
       "      <th>SD STATE</th>\n",
       "      <th>MRT (*C)</th>\n",
       "      <th>...</th>\n",
       "      <th>EAST LW RADIANT TEMP (*C)</th>\n",
       "      <th>SOUTH LW RADIANT TEMP (*C)</th>\n",
       "      <th>WEST LW RADIANT TEMP (*C)</th>\n",
       "      <th>DOWN LW RADIANT TEMP (*C)</th>\n",
       "      <th>UP SW RADIANCE (W/m^2/sr)</th>\n",
       "      <th>NORTH SW RADIANCE (W/m^2/sr)</th>\n",
       "      <th>EAST SW RADIANCE (W/m^2/sr)</th>\n",
       "      <th>SOUTH SW RADIANCE (W/m^2/sr)</th>\n",
       "      <th>WEST SW RADIANCE (W/m^2/sr)</th>\n",
       "      <th>DOWN SW RADIANCE (W/m^2/sr)</th>\n",
       "    </tr>\n",
       "  </thead>\n",
       "  <tbody>\n",
       "    <tr>\n",
       "      <th>0</th>\n",
       "      <td>Comfort Cube</td>\n",
       "      <td>2/5/2025</td>\n",
       "      <td>8:19:45</td>\n",
       "      <td>EST</td>\n",
       "      <td>1</td>\n",
       "      <td>1.2</td>\n",
       "      <td>1.0</td>\n",
       "      <td>No</td>\n",
       "      <td>1</td>\n",
       "      <td>24.44</td>\n",
       "      <td>...</td>\n",
       "      <td>23.84</td>\n",
       "      <td>22.79</td>\n",
       "      <td>25.79</td>\n",
       "      <td>24.09</td>\n",
       "      <td>5.87</td>\n",
       "      <td>0.0</td>\n",
       "      <td>3.90</td>\n",
       "      <td>4.09</td>\n",
       "      <td>0.55</td>\n",
       "      <td>0.91</td>\n",
       "    </tr>\n",
       "    <tr>\n",
       "      <th>1</th>\n",
       "      <td>Comfort Cube</td>\n",
       "      <td>2/5/2025</td>\n",
       "      <td>8:19:50</td>\n",
       "      <td>EST</td>\n",
       "      <td>1</td>\n",
       "      <td>1.2</td>\n",
       "      <td>1.0</td>\n",
       "      <td>No</td>\n",
       "      <td>1</td>\n",
       "      <td>24.76</td>\n",
       "      <td>...</td>\n",
       "      <td>23.85</td>\n",
       "      <td>22.78</td>\n",
       "      <td>24.98</td>\n",
       "      <td>24.04</td>\n",
       "      <td>20.72</td>\n",
       "      <td>0.0</td>\n",
       "      <td>1.95</td>\n",
       "      <td>3.75</td>\n",
       "      <td>0.27</td>\n",
       "      <td>0.91</td>\n",
       "    </tr>\n",
       "    <tr>\n",
       "      <th>2</th>\n",
       "      <td>Comfort Cube</td>\n",
       "      <td>2/5/2025</td>\n",
       "      <td>8:19:51</td>\n",
       "      <td>EST</td>\n",
       "      <td>1</td>\n",
       "      <td>1.2</td>\n",
       "      <td>1.0</td>\n",
       "      <td>No</td>\n",
       "      <td>1</td>\n",
       "      <td>24.31</td>\n",
       "      <td>...</td>\n",
       "      <td>23.84</td>\n",
       "      <td>22.77</td>\n",
       "      <td>26.03</td>\n",
       "      <td>24.08</td>\n",
       "      <td>0.00</td>\n",
       "      <td>0.0</td>\n",
       "      <td>2.51</td>\n",
       "      <td>3.75</td>\n",
       "      <td>1.64</td>\n",
       "      <td>0.91</td>\n",
       "    </tr>\n",
       "    <tr>\n",
       "      <th>3</th>\n",
       "      <td>Comfort Cube</td>\n",
       "      <td>2/5/2025</td>\n",
       "      <td>8:19:52</td>\n",
       "      <td>EST</td>\n",
       "      <td>1</td>\n",
       "      <td>1.2</td>\n",
       "      <td>1.0</td>\n",
       "      <td>No</td>\n",
       "      <td>1</td>\n",
       "      <td>24.60</td>\n",
       "      <td>...</td>\n",
       "      <td>23.83</td>\n",
       "      <td>22.77</td>\n",
       "      <td>26.16</td>\n",
       "      <td>24.08</td>\n",
       "      <td>10.65</td>\n",
       "      <td>0.0</td>\n",
       "      <td>3.25</td>\n",
       "      <td>2.55</td>\n",
       "      <td>1.37</td>\n",
       "      <td>0.76</td>\n",
       "    </tr>\n",
       "    <tr>\n",
       "      <th>4</th>\n",
       "      <td>Comfort Cube</td>\n",
       "      <td>2/5/2025</td>\n",
       "      <td>8:19:53</td>\n",
       "      <td>EST</td>\n",
       "      <td>1</td>\n",
       "      <td>1.2</td>\n",
       "      <td>1.0</td>\n",
       "      <td>No</td>\n",
       "      <td>1</td>\n",
       "      <td>25.38</td>\n",
       "      <td>...</td>\n",
       "      <td>23.83</td>\n",
       "      <td>22.76</td>\n",
       "      <td>26.22</td>\n",
       "      <td>24.09</td>\n",
       "      <td>39.37</td>\n",
       "      <td>0.0</td>\n",
       "      <td>2.23</td>\n",
       "      <td>3.41</td>\n",
       "      <td>1.64</td>\n",
       "      <td>0.00</td>\n",
       "    </tr>\n",
       "  </tbody>\n",
       "</table>\n",
       "<p>5 rows × 40 columns</p>\n",
       "</div>"
      ],
      "text/plain": [
       "    DEVICE NAME  DD-MM-YYYY  HH:MM:SS  TIMEZONE   DATA INTERVAL   MET RATE  \\\n",
       "0  Comfort Cube    2/5/2025   8:19:45       EST               1        1.2   \n",
       "1  Comfort Cube    2/5/2025   8:19:50       EST               1        1.2   \n",
       "2  Comfort Cube    2/5/2025   8:19:51       EST               1        1.2   \n",
       "3  Comfort Cube    2/5/2025   8:19:52       EST               1        1.2   \n",
       "4  Comfort Cube    2/5/2025   8:19:53       EST               1        1.2   \n",
       "\n",
       "    CLO VALUE  LOCAL AIR CONTROL   SD STATE   MRT (*C)  ...  \\\n",
       "0         1.0                 No          1      24.44  ...   \n",
       "1         1.0                 No          1      24.76  ...   \n",
       "2         1.0                 No          1      24.31  ...   \n",
       "3         1.0                 No          1      24.60  ...   \n",
       "4         1.0                 No          1      25.38  ...   \n",
       "\n",
       "    EAST LW RADIANT TEMP (*C)   SOUTH LW RADIANT TEMP (*C)  \\\n",
       "0                       23.84                        22.79   \n",
       "1                       23.85                        22.78   \n",
       "2                       23.84                        22.77   \n",
       "3                       23.83                        22.77   \n",
       "4                       23.83                        22.76   \n",
       "\n",
       "    WEST LW RADIANT TEMP (*C)   DOWN LW RADIANT TEMP (*C)  \\\n",
       "0                       25.79                       24.09   \n",
       "1                       24.98                       24.04   \n",
       "2                       26.03                       24.08   \n",
       "3                       26.16                       24.08   \n",
       "4                       26.22                       24.09   \n",
       "\n",
       "    UP SW RADIANCE (W/m^2/sr)   NORTH SW RADIANCE (W/m^2/sr)  \\\n",
       "0                        5.87                            0.0   \n",
       "1                       20.72                            0.0   \n",
       "2                        0.00                            0.0   \n",
       "3                       10.65                            0.0   \n",
       "4                       39.37                            0.0   \n",
       "\n",
       "    EAST SW RADIANCE (W/m^2/sr)   SOUTH SW RADIANCE (W/m^2/sr)  \\\n",
       "0                          3.90                           4.09   \n",
       "1                          1.95                           3.75   \n",
       "2                          2.51                           3.75   \n",
       "3                          3.25                           2.55   \n",
       "4                          2.23                           3.41   \n",
       "\n",
       "    WEST SW RADIANCE (W/m^2/sr)   DOWN SW RADIANCE (W/m^2/sr)  \n",
       "0                          0.55                          0.91  \n",
       "1                          0.27                          0.91  \n",
       "2                          1.64                          0.91  \n",
       "3                          1.37                          0.76  \n",
       "4                          1.64                          0.00  \n",
       "\n",
       "[5 rows x 40 columns]"
      ]
     },
     "metadata": {},
     "output_type": "display_data"
    },
    {
     "data": {
      "text/plain": [
       "Index(['DEVICE NAME', ' DD-MM-YYYY', ' HH:MM:SS', ' TIMEZONE',\n",
       "       ' DATA INTERVAL', ' MET RATE', ' CLO VALUE', ' LOCAL AIR CONTROL',\n",
       "       ' SD STATE', ' MRT (*C)', ' LONGWAVE RADIANCE (*C)',\n",
       "       ' SHORTWAVE RADIANCE (*C)', ' AIR TEMP (*C)', ' HUMIDITY (%)',\n",
       "       ' AIR SPEED (m/s)', ' WIND COOLING EFFECT (*C)',\n",
       "       ' STANDARD EFFECTIVE TEMP (*C)', ' OPERATIVE TEMP (*C)',\n",
       "       ' WETBULB GLOBE TEMP (*C)', ' CO2 (ppm)', ' VOC INDEX', ' NOX INDEX',\n",
       "       ' ASHRAE-55 PASS/FAIL', ' EN-16798 PASS/FAIL', ' EN-16798 CATEGORY',\n",
       "       ' PASS/FAIL REASONS', ' PPD ASHRAE-55', ' PMV ASHRAE-55',\n",
       "       ' UP LW RADIANT TEMP (*C)', ' NORTH LW RADIANT TEMP (*C)',\n",
       "       ' EAST LW RADIANT TEMP (*C)', ' SOUTH LW RADIANT TEMP (*C)',\n",
       "       ' WEST LW RADIANT TEMP (*C)', ' DOWN LW RADIANT TEMP (*C)',\n",
       "       ' UP SW RADIANCE (W/m^2/sr)', ' NORTH SW RADIANCE (W/m^2/sr)',\n",
       "       ' EAST SW RADIANCE (W/m^2/sr)', ' SOUTH SW RADIANCE (W/m^2/sr)',\n",
       "       ' WEST SW RADIANCE (W/m^2/sr)', ' DOWN SW RADIANCE (W/m^2/sr)'],\n",
       "      dtype='object')"
      ]
     },
     "metadata": {},
     "output_type": "display_data"
    },
    {
     "data": {
      "text/html": [
       "<div>\n",
       "<style scoped>\n",
       "    .dataframe tbody tr th:only-of-type {\n",
       "        vertical-align: middle;\n",
       "    }\n",
       "\n",
       "    .dataframe tbody tr th {\n",
       "        vertical-align: top;\n",
       "    }\n",
       "\n",
       "    .dataframe thead th {\n",
       "        text-align: right;\n",
       "    }\n",
       "</style>\n",
       "<table border=\"1\" class=\"dataframe\">\n",
       "  <thead>\n",
       "    <tr style=\"text-align: right;\">\n",
       "      <th></th>\n",
       "      <th>DEVICE NAME</th>\n",
       "      <th>DD-MM-YYYY</th>\n",
       "      <th>HH:MM:SS</th>\n",
       "      <th>TIMEZONE</th>\n",
       "      <th>DATA INTERVAL</th>\n",
       "      <th>MET RATE</th>\n",
       "      <th>CLO VALUE</th>\n",
       "      <th>LOCAL AIR CONTROL</th>\n",
       "      <th>SD STATE</th>\n",
       "      <th>MRT (*C)</th>\n",
       "      <th>...</th>\n",
       "      <th>EAST LW RADIANT TEMP (*C)</th>\n",
       "      <th>SOUTH LW RADIANT TEMP (*C)</th>\n",
       "      <th>WEST LW RADIANT TEMP (*C)</th>\n",
       "      <th>DOWN LW RADIANT TEMP (*C)</th>\n",
       "      <th>UP SW RADIANCE (W/m^2/sr)</th>\n",
       "      <th>NORTH SW RADIANCE (W/m^2/sr)</th>\n",
       "      <th>EAST SW RADIANCE (W/m^2/sr)</th>\n",
       "      <th>SOUTH SW RADIANCE (W/m^2/sr)</th>\n",
       "      <th>WEST SW RADIANCE (W/m^2/sr)</th>\n",
       "      <th>DOWN SW RADIANCE (W/m^2/sr)</th>\n",
       "    </tr>\n",
       "  </thead>\n",
       "  <tbody>\n",
       "    <tr>\n",
       "      <th>0</th>\n",
       "      <td>ComfortCube</td>\n",
       "      <td>2/5/2025</td>\n",
       "      <td>8:12:38</td>\n",
       "      <td>CST</td>\n",
       "      <td>1</td>\n",
       "      <td>1.2</td>\n",
       "      <td>1.0</td>\n",
       "      <td>Yes</td>\n",
       "      <td>1</td>\n",
       "      <td>26.29</td>\n",
       "      <td>...</td>\n",
       "      <td>28.97</td>\n",
       "      <td>24.87</td>\n",
       "      <td>24.61</td>\n",
       "      <td>25.77</td>\n",
       "      <td>4.41</td>\n",
       "      <td>3.56</td>\n",
       "      <td>0.25</td>\n",
       "      <td>0.85</td>\n",
       "      <td>1.74</td>\n",
       "      <td>2.10</td>\n",
       "    </tr>\n",
       "    <tr>\n",
       "      <th>1</th>\n",
       "      <td>ComfortCube</td>\n",
       "      <td>2/5/2025</td>\n",
       "      <td>8:12:43</td>\n",
       "      <td>CST</td>\n",
       "      <td>1</td>\n",
       "      <td>1.2</td>\n",
       "      <td>1.0</td>\n",
       "      <td>Yes</td>\n",
       "      <td>1</td>\n",
       "      <td>26.06</td>\n",
       "      <td>...</td>\n",
       "      <td>28.34</td>\n",
       "      <td>24.99</td>\n",
       "      <td>24.61</td>\n",
       "      <td>25.58</td>\n",
       "      <td>1.69</td>\n",
       "      <td>3.27</td>\n",
       "      <td>0.51</td>\n",
       "      <td>0.85</td>\n",
       "      <td>2.09</td>\n",
       "      <td>8.41</td>\n",
       "    </tr>\n",
       "    <tr>\n",
       "      <th>2</th>\n",
       "      <td>ComfortCube</td>\n",
       "      <td>2/5/2025</td>\n",
       "      <td>8:12:44</td>\n",
       "      <td>CST</td>\n",
       "      <td>1</td>\n",
       "      <td>1.2</td>\n",
       "      <td>1.0</td>\n",
       "      <td>Yes</td>\n",
       "      <td>1</td>\n",
       "      <td>25.39</td>\n",
       "      <td>...</td>\n",
       "      <td>26.81</td>\n",
       "      <td>24.90</td>\n",
       "      <td>24.63</td>\n",
       "      <td>25.38</td>\n",
       "      <td>2.98</td>\n",
       "      <td>2.85</td>\n",
       "      <td>0.00</td>\n",
       "      <td>0.90</td>\n",
       "      <td>1.12</td>\n",
       "      <td>1.96</td>\n",
       "    </tr>\n",
       "    <tr>\n",
       "      <th>3</th>\n",
       "      <td>ComfortCube</td>\n",
       "      <td>2/5/2025</td>\n",
       "      <td>8:12:45</td>\n",
       "      <td>CST</td>\n",
       "      <td>1</td>\n",
       "      <td>1.2</td>\n",
       "      <td>1.0</td>\n",
       "      <td>Yes</td>\n",
       "      <td>1</td>\n",
       "      <td>25.06</td>\n",
       "      <td>...</td>\n",
       "      <td>25.92</td>\n",
       "      <td>24.93</td>\n",
       "      <td>24.62</td>\n",
       "      <td>24.92</td>\n",
       "      <td>2.71</td>\n",
       "      <td>3.86</td>\n",
       "      <td>0.25</td>\n",
       "      <td>1.13</td>\n",
       "      <td>1.05</td>\n",
       "      <td>0.00</td>\n",
       "    </tr>\n",
       "    <tr>\n",
       "      <th>4</th>\n",
       "      <td>ComfortCube</td>\n",
       "      <td>2/5/2025</td>\n",
       "      <td>8:12:46</td>\n",
       "      <td>CST</td>\n",
       "      <td>1</td>\n",
       "      <td>1.2</td>\n",
       "      <td>1.0</td>\n",
       "      <td>Yes</td>\n",
       "      <td>1</td>\n",
       "      <td>25.13</td>\n",
       "      <td>...</td>\n",
       "      <td>25.16</td>\n",
       "      <td>25.08</td>\n",
       "      <td>24.63</td>\n",
       "      <td>24.84</td>\n",
       "      <td>3.39</td>\n",
       "      <td>1.78</td>\n",
       "      <td>0.00</td>\n",
       "      <td>0.94</td>\n",
       "      <td>2.32</td>\n",
       "      <td>7.48</td>\n",
       "    </tr>\n",
       "  </tbody>\n",
       "</table>\n",
       "<p>5 rows × 40 columns</p>\n",
       "</div>"
      ],
      "text/plain": [
       "   DEVICE NAME  DD-MM-YYYY  HH:MM:SS  TIMEZONE   DATA INTERVAL   MET RATE  \\\n",
       "0  ComfortCube    2/5/2025   8:12:38       CST               1        1.2   \n",
       "1  ComfortCube    2/5/2025   8:12:43       CST               1        1.2   \n",
       "2  ComfortCube    2/5/2025   8:12:44       CST               1        1.2   \n",
       "3  ComfortCube    2/5/2025   8:12:45       CST               1        1.2   \n",
       "4  ComfortCube    2/5/2025   8:12:46       CST               1        1.2   \n",
       "\n",
       "    CLO VALUE  LOCAL AIR CONTROL   SD STATE   MRT (*C)  ...  \\\n",
       "0         1.0                Yes          1      26.29  ...   \n",
       "1         1.0                Yes          1      26.06  ...   \n",
       "2         1.0                Yes          1      25.39  ...   \n",
       "3         1.0                Yes          1      25.06  ...   \n",
       "4         1.0                Yes          1      25.13  ...   \n",
       "\n",
       "    EAST LW RADIANT TEMP (*C)   SOUTH LW RADIANT TEMP (*C)  \\\n",
       "0                       28.97                        24.87   \n",
       "1                       28.34                        24.99   \n",
       "2                       26.81                        24.90   \n",
       "3                       25.92                        24.93   \n",
       "4                       25.16                        25.08   \n",
       "\n",
       "    WEST LW RADIANT TEMP (*C)   DOWN LW RADIANT TEMP (*C)  \\\n",
       "0                       24.61                       25.77   \n",
       "1                       24.61                       25.58   \n",
       "2                       24.63                       25.38   \n",
       "3                       24.62                       24.92   \n",
       "4                       24.63                       24.84   \n",
       "\n",
       "    UP SW RADIANCE (W/m^2/sr)   NORTH SW RADIANCE (W/m^2/sr)  \\\n",
       "0                        4.41                           3.56   \n",
       "1                        1.69                           3.27   \n",
       "2                        2.98                           2.85   \n",
       "3                        2.71                           3.86   \n",
       "4                        3.39                           1.78   \n",
       "\n",
       "    EAST SW RADIANCE (W/m^2/sr)   SOUTH SW RADIANCE (W/m^2/sr)  \\\n",
       "0                          0.25                           0.85   \n",
       "1                          0.51                           0.85   \n",
       "2                          0.00                           0.90   \n",
       "3                          0.25                           1.13   \n",
       "4                          0.00                           0.94   \n",
       "\n",
       "    WEST SW RADIANCE (W/m^2/sr)   DOWN SW RADIANCE (W/m^2/sr)  \n",
       "0                          1.74                          2.10  \n",
       "1                          2.09                          8.41  \n",
       "2                          1.12                          1.96  \n",
       "3                          1.05                          0.00  \n",
       "4                          2.32                          7.48  \n",
       "\n",
       "[5 rows x 40 columns]"
      ]
     },
     "metadata": {},
     "output_type": "display_data"
    },
    {
     "data": {
      "text/html": [
       "<div>\n",
       "<style scoped>\n",
       "    .dataframe tbody tr th:only-of-type {\n",
       "        vertical-align: middle;\n",
       "    }\n",
       "\n",
       "    .dataframe tbody tr th {\n",
       "        vertical-align: top;\n",
       "    }\n",
       "\n",
       "    .dataframe thead th {\n",
       "        text-align: right;\n",
       "    }\n",
       "</style>\n",
       "<table border=\"1\" class=\"dataframe\">\n",
       "  <thead>\n",
       "    <tr style=\"text-align: right;\">\n",
       "      <th></th>\n",
       "      <th>DEVICE NAME</th>\n",
       "      <th>DD-MM-YYYY</th>\n",
       "      <th>HH:MM:SS</th>\n",
       "      <th>TIMEZONE</th>\n",
       "      <th>DATA INTERVAL</th>\n",
       "      <th>MET RATE</th>\n",
       "      <th>CLO VALUE</th>\n",
       "      <th>LOCAL AIR CONTROL</th>\n",
       "      <th>SD STATE</th>\n",
       "      <th>MRT (*C)</th>\n",
       "      <th>...</th>\n",
       "      <th>EAST LW RADIANT TEMP (*C)</th>\n",
       "      <th>SOUTH LW RADIANT TEMP (*C)</th>\n",
       "      <th>WEST LW RADIANT TEMP (*C)</th>\n",
       "      <th>DOWN LW RADIANT TEMP (*C)</th>\n",
       "      <th>UP SW RADIANCE (W/m^2/sr)</th>\n",
       "      <th>NORTH SW RADIANCE (W/m^2/sr)</th>\n",
       "      <th>EAST SW RADIANCE (W/m^2/sr)</th>\n",
       "      <th>SOUTH SW RADIANCE (W/m^2/sr)</th>\n",
       "      <th>WEST SW RADIANCE (W/m^2/sr)</th>\n",
       "      <th>DOWN SW RADIANCE (W/m^2/sr)</th>\n",
       "    </tr>\n",
       "  </thead>\n",
       "  <tbody>\n",
       "    <tr>\n",
       "      <th>0</th>\n",
       "      <td>ot Set</td>\n",
       "      <td>2/5/2025</td>\n",
       "      <td>8:13:05</td>\n",
       "      <td>EST</td>\n",
       "      <td>1</td>\n",
       "      <td>1.2</td>\n",
       "      <td>1.0</td>\n",
       "      <td>No</td>\n",
       "      <td>1</td>\n",
       "      <td>26.58</td>\n",
       "      <td>...</td>\n",
       "      <td>27.27</td>\n",
       "      <td>25.33</td>\n",
       "      <td>24.70</td>\n",
       "      <td>25.61</td>\n",
       "      <td>0</td>\n",
       "      <td>0</td>\n",
       "      <td>0.55</td>\n",
       "      <td>35</td>\n",
       "      <td>0</td>\n",
       "      <td>2.46</td>\n",
       "    </tr>\n",
       "    <tr>\n",
       "      <th>1</th>\n",
       "      <td>Not Set</td>\n",
       "      <td>2/5/2025</td>\n",
       "      <td>8:13:06</td>\n",
       "      <td>EST</td>\n",
       "      <td>1</td>\n",
       "      <td>1.2</td>\n",
       "      <td>1.0</td>\n",
       "      <td>No</td>\n",
       "      <td>1</td>\n",
       "      <td>26.53</td>\n",
       "      <td>...</td>\n",
       "      <td>26.69</td>\n",
       "      <td>26.04</td>\n",
       "      <td>24.69</td>\n",
       "      <td>25.61</td>\n",
       "      <td>0</td>\n",
       "      <td>0</td>\n",
       "      <td>0.00</td>\n",
       "      <td>36.91</td>\n",
       "      <td>0</td>\n",
       "      <td>0.55</td>\n",
       "    </tr>\n",
       "    <tr>\n",
       "      <th>2</th>\n",
       "      <td>Not Set</td>\n",
       "      <td>2/5/2025</td>\n",
       "      <td>8:13:07</td>\n",
       "      <td>EST</td>\n",
       "      <td>1</td>\n",
       "      <td>1.2</td>\n",
       "      <td>1.0</td>\n",
       "      <td>No</td>\n",
       "      <td>1</td>\n",
       "      <td>26.53</td>\n",
       "      <td>...</td>\n",
       "      <td>26.19</td>\n",
       "      <td>26.37</td>\n",
       "      <td>24.66</td>\n",
       "      <td>25.55</td>\n",
       "      <td>0</td>\n",
       "      <td>0</td>\n",
       "      <td>0.00</td>\n",
       "      <td>36.46</td>\n",
       "      <td>0</td>\n",
       "      <td>3.87</td>\n",
       "    </tr>\n",
       "    <tr>\n",
       "      <th>3</th>\n",
       "      <td>Not Set</td>\n",
       "      <td>2/5/2025</td>\n",
       "      <td>8:13:08</td>\n",
       "      <td>EST</td>\n",
       "      <td>1</td>\n",
       "      <td>1.2</td>\n",
       "      <td>1.0</td>\n",
       "      <td>No</td>\n",
       "      <td>1</td>\n",
       "      <td>26.20</td>\n",
       "      <td>...</td>\n",
       "      <td>26.14</td>\n",
       "      <td>26.41</td>\n",
       "      <td>24.69</td>\n",
       "      <td>25.54</td>\n",
       "      <td>0</td>\n",
       "      <td>0</td>\n",
       "      <td>0.00</td>\n",
       "      <td>27.34</td>\n",
       "      <td>0</td>\n",
       "      <td>0.55</td>\n",
       "    </tr>\n",
       "    <tr>\n",
       "      <th>4</th>\n",
       "      <td>Not Set</td>\n",
       "      <td>2/5/2025</td>\n",
       "      <td>8:13:09</td>\n",
       "      <td>EST</td>\n",
       "      <td>1</td>\n",
       "      <td>1.2</td>\n",
       "      <td>1.0</td>\n",
       "      <td>No</td>\n",
       "      <td>1</td>\n",
       "      <td>26.63</td>\n",
       "      <td>...</td>\n",
       "      <td>27.14</td>\n",
       "      <td>25.36</td>\n",
       "      <td>24.70</td>\n",
       "      <td>25.55</td>\n",
       "      <td>0</td>\n",
       "      <td>0</td>\n",
       "      <td>0.46</td>\n",
       "      <td>36.23</td>\n",
       "      <td>0</td>\n",
       "      <td>2.51</td>\n",
       "    </tr>\n",
       "  </tbody>\n",
       "</table>\n",
       "<p>5 rows × 40 columns</p>\n",
       "</div>"
      ],
      "text/plain": [
       "  DEVICE NAME  DD-MM-YYYY  HH:MM:SS  TIMEZONE   DATA INTERVAL   MET RATE  \\\n",
       "0      ot Set    2/5/2025   8:13:05       EST               1        1.2   \n",
       "1     Not Set    2/5/2025   8:13:06       EST               1        1.2   \n",
       "2     Not Set    2/5/2025   8:13:07       EST               1        1.2   \n",
       "3     Not Set    2/5/2025   8:13:08       EST               1        1.2   \n",
       "4     Not Set    2/5/2025   8:13:09       EST               1        1.2   \n",
       "\n",
       "    CLO VALUE  LOCAL AIR CONTROL  SD STATE   MRT (*C)  ...  \\\n",
       "0         1.0                 No         1      26.58  ...   \n",
       "1         1.0                 No         1      26.53  ...   \n",
       "2         1.0                 No         1      26.53  ...   \n",
       "3         1.0                 No         1      26.20  ...   \n",
       "4         1.0                 No         1      26.63  ...   \n",
       "\n",
       "   EAST LW RADIANT TEMP (*C)   SOUTH LW RADIANT TEMP (*C)  \\\n",
       "0                      27.27                        25.33   \n",
       "1                      26.69                        26.04   \n",
       "2                      26.19                        26.37   \n",
       "3                      26.14                        26.41   \n",
       "4                      27.14                        25.36   \n",
       "\n",
       "   WEST LW RADIANT TEMP (*C)   DOWN LW RADIANT TEMP (*C)  \\\n",
       "0                      24.70                       25.61   \n",
       "1                      24.69                       25.61   \n",
       "2                      24.66                       25.55   \n",
       "3                      24.69                       25.54   \n",
       "4                      24.70                       25.55   \n",
       "\n",
       "    UP SW RADIANCE (W/m^2/sr)  NORTH SW RADIANCE (W/m^2/sr)  \\\n",
       "0                           0                             0   \n",
       "1                           0                             0   \n",
       "2                           0                             0   \n",
       "3                           0                             0   \n",
       "4                           0                             0   \n",
       "\n",
       "   EAST SW RADIANCE (W/m^2/sr)   SOUTH SW RADIANCE (W/m^2/sr)  \\\n",
       "0                         0.55                             35   \n",
       "1                         0.00                          36.91   \n",
       "2                         0.00                          36.46   \n",
       "3                         0.00                          27.34   \n",
       "4                         0.46                          36.23   \n",
       "\n",
       "    WEST SW RADIANCE (W/m^2/sr)   DOWN SW RADIANCE (W/m^2/sr)  \n",
       "0                             0                          2.46  \n",
       "1                             0                          0.55  \n",
       "2                             0                          3.87  \n",
       "3                             0                          0.55  \n",
       "4                             0                          2.51  \n",
       "\n",
       "[5 rows x 40 columns]"
      ]
     },
     "metadata": {},
     "output_type": "display_data"
    }
   ],
   "source": [
    "df = pd.read_csv(\"New Cube Sensors/25.05.02_CUBE 6.csv\", encoding=\"iso-8859-9\")\n",
    "display(df.head())\n",
    "display(df.columns)\n",
    "\n",
    "df2 = pd.read_csv(\"New Cube Sensors/25.05.02_CUBE 1 (mobile).csv\", encoding=\"iso-8859-9\")\n",
    "display(df2.head())\n",
    "\n",
    "df3 = pd.read_csv(\"New Cube Sensors/25.05.02_CUBE ICE.csv\", encoding=\"iso-8859-9\")\n",
    "display(df3.head())"
   ]
  },
  {
   "cell_type": "code",
   "execution_count": 53,
   "id": "99c309e0-1a98-4c90-9699-cf2f7177dada",
   "metadata": {
    "execution": {
     "iopub.execute_input": "2025-05-24T13:29:31.534658Z",
     "iopub.status.busy": "2025-05-24T13:29:31.531904Z",
     "iopub.status.idle": "2025-05-24T13:29:31.609092Z",
     "shell.execute_reply": "2025-05-24T13:29:31.607013Z",
     "shell.execute_reply.started": "2025-05-24T13:29:31.534526Z"
    }
   },
   "outputs": [
    {
     "data": {
      "text/html": [
       "<div>\n",
       "<style scoped>\n",
       "    .dataframe tbody tr th:only-of-type {\n",
       "        vertical-align: middle;\n",
       "    }\n",
       "\n",
       "    .dataframe tbody tr th {\n",
       "        vertical-align: top;\n",
       "    }\n",
       "\n",
       "    .dataframe thead th {\n",
       "        text-align: right;\n",
       "    }\n",
       "</style>\n",
       "<table border=\"1\" class=\"dataframe\">\n",
       "  <thead>\n",
       "    <tr style=\"text-align: right;\">\n",
       "      <th></th>\n",
       "      <th>t_a [oC]</th>\n",
       "      <th>L_v [kJ/kg]</th>\n",
       "    </tr>\n",
       "  </thead>\n",
       "  <tbody>\n",
       "    <tr>\n",
       "      <th>0</th>\n",
       "      <td>15</td>\n",
       "      <td>2465</td>\n",
       "    </tr>\n",
       "    <tr>\n",
       "      <th>1</th>\n",
       "      <td>16</td>\n",
       "      <td>2463</td>\n",
       "    </tr>\n",
       "    <tr>\n",
       "      <th>2</th>\n",
       "      <td>17</td>\n",
       "      <td>2461</td>\n",
       "    </tr>\n",
       "    <tr>\n",
       "      <th>3</th>\n",
       "      <td>18</td>\n",
       "      <td>2458</td>\n",
       "    </tr>\n",
       "    <tr>\n",
       "      <th>4</th>\n",
       "      <td>19</td>\n",
       "      <td>2456</td>\n",
       "    </tr>\n",
       "  </tbody>\n",
       "</table>\n",
       "</div>"
      ],
      "text/plain": [
       "   t_a [oC]  L_v [kJ/kg]\n",
       "0        15         2465\n",
       "1        16         2463\n",
       "2        17         2461\n",
       "3        18         2458\n",
       "4        19         2456"
      ]
     },
     "metadata": {},
     "output_type": "display_data"
    },
    {
     "data": {
      "text/html": [
       "<div>\n",
       "<style scoped>\n",
       "    .dataframe tbody tr th:only-of-type {\n",
       "        vertical-align: middle;\n",
       "    }\n",
       "\n",
       "    .dataframe tbody tr th {\n",
       "        vertical-align: top;\n",
       "    }\n",
       "\n",
       "    .dataframe thead th {\n",
       "        text-align: right;\n",
       "    }\n",
       "</style>\n",
       "<table border=\"1\" class=\"dataframe\">\n",
       "  <thead>\n",
       "    <tr style=\"text-align: right;\">\n",
       "      <th></th>\n",
       "      <th>Time</th>\n",
       "      <th>MRT</th>\n",
       "      <th>Longwave Radiance</th>\n",
       "      <th>Shortwave Radiance</th>\n",
       "      <th>Air Temperature</th>\n",
       "      <th>Humidity</th>\n",
       "      <th>Air Speed</th>\n",
       "      <th>Cube No</th>\n",
       "      <th>Person</th>\n",
       "      <th>Skin Temperature</th>\n",
       "    </tr>\n",
       "  </thead>\n",
       "  <tbody>\n",
       "    <tr>\n",
       "      <th>0</th>\n",
       "      <td>10:05:13</td>\n",
       "      <td>26.62</td>\n",
       "      <td>26.19</td>\n",
       "      <td>0.43</td>\n",
       "      <td>26.79</td>\n",
       "      <td>44.26</td>\n",
       "      <td>0.04</td>\n",
       "      <td>1</td>\n",
       "      <td>B</td>\n",
       "      <td>35.4</td>\n",
       "    </tr>\n",
       "    <tr>\n",
       "      <th>1</th>\n",
       "      <td>10:55:11</td>\n",
       "      <td>26.05</td>\n",
       "      <td>26.05</td>\n",
       "      <td>0.00</td>\n",
       "      <td>27.58</td>\n",
       "      <td>43.63</td>\n",
       "      <td>0.07</td>\n",
       "      <td>6</td>\n",
       "      <td>B</td>\n",
       "      <td>35.8</td>\n",
       "    </tr>\n",
       "    <tr>\n",
       "      <th>2</th>\n",
       "      <td>11:50:11</td>\n",
       "      <td>27.95</td>\n",
       "      <td>27.69</td>\n",
       "      <td>0.26</td>\n",
       "      <td>27.54</td>\n",
       "      <td>38.13</td>\n",
       "      <td>0.03</td>\n",
       "      <td>1</td>\n",
       "      <td>B</td>\n",
       "      <td>34.1</td>\n",
       "    </tr>\n",
       "    <tr>\n",
       "      <th>3</th>\n",
       "      <td>10:01:41</td>\n",
       "      <td>26.64</td>\n",
       "      <td>26.22</td>\n",
       "      <td>0.42</td>\n",
       "      <td>26.94</td>\n",
       "      <td>43.50</td>\n",
       "      <td>0.02</td>\n",
       "      <td>1</td>\n",
       "      <td>O</td>\n",
       "      <td>35.7</td>\n",
       "    </tr>\n",
       "    <tr>\n",
       "      <th>4</th>\n",
       "      <td>10:02:22</td>\n",
       "      <td>26.65</td>\n",
       "      <td>26.21</td>\n",
       "      <td>0.44</td>\n",
       "      <td>26.70</td>\n",
       "      <td>44.06</td>\n",
       "      <td>0.02</td>\n",
       "      <td>1</td>\n",
       "      <td>C</td>\n",
       "      <td>35.2</td>\n",
       "    </tr>\n",
       "  </tbody>\n",
       "</table>\n",
       "</div>"
      ],
      "text/plain": [
       "       Time    MRT  Longwave Radiance  Shortwave Radiance  Air Temperature  \\\n",
       "0  10:05:13  26.62              26.19                0.43            26.79   \n",
       "1  10:55:11  26.05              26.05                0.00            27.58   \n",
       "2  11:50:11  27.95              27.69                0.26            27.54   \n",
       "3  10:01:41  26.64              26.22                0.42            26.94   \n",
       "4  10:02:22  26.65              26.21                0.44            26.70   \n",
       "\n",
       "   Humidity  Air Speed  Cube No Person  Skin Temperature  \n",
       "0     44.26       0.04        1      B              35.4  \n",
       "1     43.63       0.07        6      B              35.8  \n",
       "2     38.13       0.03        1      B              34.1  \n",
       "3     43.50       0.02        1      O              35.7  \n",
       "4     44.06       0.02        1      C              35.2  "
      ]
     },
     "metadata": {},
     "output_type": "display_data"
    }
   ],
   "source": [
    "df5= pd.read_excel(\"Water property_heat of vaporisation.xlsx\")\n",
    "display(df5.head())\n",
    "\n",
    "df6= pd.read_excel(\"selected_data.xlsx\")\n",
    "display(df6.head())"
   ]
  },
  {
   "cell_type": "code",
   "execution_count": 38,
   "id": "56fe2fd6-fc0d-41db-9297-1e53b5677659",
   "metadata": {
    "execution": {
     "iopub.execute_input": "2025-05-24T12:50:14.700344Z",
     "iopub.status.busy": "2025-05-24T12:50:14.699366Z",
     "iopub.status.idle": "2025-05-24T12:50:14.721832Z",
     "shell.execute_reply": "2025-05-24T12:50:14.718783Z",
     "shell.execute_reply.started": "2025-05-24T12:50:14.700260Z"
    }
   },
   "outputs": [
    {
     "data": {
      "text/plain": [
       "0    26.79\n",
       "1    27.58\n",
       "2    27.54\n",
       "Name: Air Temperature, dtype: float64"
      ]
     },
     "metadata": {},
     "output_type": "display_data"
    }
   ],
   "source": [
    "t_air = df6[\"Air Temperature\"]\n",
    "display(t_air)"
   ]
  },
  {
   "cell_type": "code",
   "execution_count": 57,
   "id": "79ca8a67-7c15-467a-87f2-036d0daaf9ec",
   "metadata": {
    "execution": {
     "iopub.execute_input": "2025-05-24T13:29:57.718327Z",
     "iopub.status.busy": "2025-05-24T13:29:57.717269Z",
     "iopub.status.idle": "2025-05-24T13:29:57.733788Z",
     "shell.execute_reply": "2025-05-24T13:29:57.731432Z",
     "shell.execute_reply.started": "2025-05-24T13:29:57.718243Z"
    }
   },
   "outputs": [
    {
     "data": {
      "text/plain": [
       "5"
      ]
     },
     "execution_count": 57,
     "metadata": {},
     "output_type": "execute_result"
    }
   ],
   "source": [
    "len(df6)"
   ]
  },
  {
   "cell_type": "code",
   "execution_count": 70,
   "id": "7dc84561-bb80-4e65-9840-f4a111cc86a7",
   "metadata": {
    "execution": {
     "iopub.execute_input": "2025-05-24T19:23:19.879539Z",
     "iopub.status.busy": "2025-05-24T19:23:19.878168Z",
     "iopub.status.idle": "2025-05-24T19:23:19.910773Z",
     "shell.execute_reply": "2025-05-24T19:23:19.908614Z",
     "shell.execute_reply.started": "2025-05-24T19:23:19.879453Z"
    }
   },
   "outputs": [],
   "source": [
    "T_skin = [35.4, 35.8, 34.1]\n",
    "\n",
    "time_list = []\n",
    "q_radi_list   = [] \n",
    "q_conv_list   = [] \n",
    "q_c_resp_list = [] \n",
    "q_e_skin_list = []  \n",
    "q_e_resp_list = []  \n",
    "q_total_list = []\n",
    "\n",
    "for i in range(len(df6)):\n",
    "\n",
    "    t_air = df6[\"Air Temperature\"][i]\n",
    "    v_a = df6[\"Air Speed\"][i]\n",
    "            \n",
    "    t_skin = df6[\"Skin Temperature\"][i]\n",
    "    # t_core = df2[\"T_core (°C)\"][i]\n",
    "    t_core = 37       \n",
    "    t_mrt = df6[\"MRT\"][i]\n",
    "\n",
    "    I_cl = 0\n",
    "\n",
    "    f_cl = calculate_f_cl(I_cl)\n",
    "        \n",
    "    h_conv = calculate_h_conv(v_a)\n",
    "        \n",
    "    M = 58.2 * 1.1\n",
    "        \n",
    "    Lv = get_Lv(t_air)\n",
    "        \n",
    "    R_v_cl = 0.015\n",
    "        \n",
    "    RH = df6[\"Humidity\"][i]/ 100\n",
    "        \n",
    "    p_v_sat, p_v_a = find_pressures(t_air, t_skin, RH)\n",
    "\n",
    "    # calculate h_rad\n",
    "    epsilon=0.95\n",
    "    sigma = 5.67e-8  # Stefan-Boltzmann constant\n",
    "    f_cl = calculate_f_cl(I_cl)\n",
    "    R_cl = I_cl * 0.155  # [m2K/W]\n",
    "    f_eff = 0.72 # o The effective radiation area factor f_eff estimated as 0.72 for sitting person\n",
    "    h_rad = 4 * epsilon * sigma * f_eff * (273.15 + ((t_skin + t_mrt) / 2))**3\n",
    "            \n",
    "    Q_radi = Q_rad(h_rad, f_cl, t_skin, t_mrt)\n",
    "    Q_conv = Q_conv_skin(h_conv, f_cl, t_skin, t_air)\n",
    "    Q_c_resp = Q_conv_resp(M, t_air)\n",
    "    a = calculate_all_Q_E_skin(t_skin, t_core, Lv, R_v_cl, f_cl, h_conv, t_air, RH, alpha=0.2)\n",
    "    q_evap_sk = a['Q_E_skin']\n",
    "    Q_e_resp = calculate_Q_evap_resp(M, p_v_a)\n",
    "\n",
    "\n",
    "    time_list.append(df6['Time'][i])\n",
    "    q_radi_list.append(Q_radi)\n",
    "    q_conv_list.append(Q_conv)\n",
    "    q_c_resp_list.append(Q_c_resp)\n",
    "    q_e_skin_list.append(q_evap_sk)\n",
    "    q_e_resp_list.append(Q_e_resp)\n",
    "\n",
    "    total_q = Q_radi + Q_conv + Q_c_resp + q_evap_sk + Q_e_resp\n",
    "    q_total_list.append(total_q)\n",
    "    "
   ]
  },
  {
   "cell_type": "code",
   "execution_count": 60,
   "id": "4744bb5e-9bfa-4e56-844a-81c8234021bb",
   "metadata": {
    "execution": {
     "iopub.execute_input": "2025-05-24T13:30:54.382785Z",
     "iopub.status.busy": "2025-05-24T13:30:54.381855Z",
     "iopub.status.idle": "2025-05-24T13:30:54.397482Z",
     "shell.execute_reply": "2025-05-24T13:30:54.394968Z",
     "shell.execute_reply.started": "2025-05-24T13:30:54.382704Z"
    }
   },
   "outputs": [
    {
     "data": {
      "text/plain": [
       "[38.32657107578454,\n",
       " 42.52515584543479,\n",
       " 26.850032634360712,\n",
       " 39.61127625633444,\n",
       " 37.29129051061208]"
      ]
     },
     "metadata": {},
     "output_type": "display_data"
    }
   ],
   "source": [
    "display(q_radi_list)"
   ]
  },
  {
   "cell_type": "code",
   "execution_count": 61,
   "id": "908f4323-2589-4571-b3e3-b1098aad7eb4",
   "metadata": {
    "execution": {
     "iopub.execute_input": "2025-05-24T13:30:55.415294Z",
     "iopub.status.busy": "2025-05-24T13:30:55.414081Z",
     "iopub.status.idle": "2025-05-24T13:30:55.435822Z",
     "shell.execute_reply": "2025-05-24T13:30:55.433747Z",
     "shell.execute_reply.started": "2025-05-24T13:30:55.415205Z"
    }
   },
   "outputs": [
    {
     "data": {
      "text/plain": [
       "[77.78677404997191,\n",
       " 80.79732772290753,\n",
       " 59.59927427689263,\n",
       " 79.73710279807186,\n",
       " 76.34592657689088]"
      ]
     },
     "metadata": {},
     "output_type": "display_data"
    }
   ],
   "source": [
    "display(q_total_list)"
   ]
  },
  {
   "cell_type": "code",
   "execution_count": 66,
   "id": "2875e847-1634-402d-aec1-c5dc7b3822f6",
   "metadata": {
    "execution": {
     "iopub.execute_input": "2025-05-24T17:19:55.564201Z",
     "iopub.status.busy": "2025-05-24T17:19:55.562309Z",
     "iopub.status.idle": "2025-05-24T17:19:55.819419Z",
     "shell.execute_reply": "2025-05-24T17:19:55.817484Z",
     "shell.execute_reply.started": "2025-05-24T17:19:55.564093Z"
    }
   },
   "outputs": [
    {
     "data": {
      "text/plain": [
       "[<matplotlib.lines.Line2D at 0x7b354cda71a0>]"
      ]
     },
     "execution_count": 66,
     "metadata": {},
     "output_type": "execute_result"
    },
    {
     "data": {
      "image/png": "[encoded data removed]",
      "text/plain": [
       "<Figure size 640x480 with 1 Axes>"
      ]
     },
     "metadata": {},
     "output_type": "display_data"
    }
   ],
   "source": [
    "plt.plot([1,2,3],q_total_list[0:3])"
   ]
  },
  {
   "cell_type": "code",
   "execution_count": 67,
   "id": "a8be1773-53d4-4422-8768-01f94d4e392e",
   "metadata": {
    "execution": {
     "iopub.execute_input": "2025-05-24T17:19:58.993237Z",
     "iopub.status.busy": "2025-05-24T17:19:58.992274Z",
     "iopub.status.idle": "2025-05-24T17:19:59.261259Z",
     "shell.execute_reply": "2025-05-24T17:19:59.259017Z",
     "shell.execute_reply.started": "2025-05-24T17:19:58.993156Z"
    }
   },
   "outputs": [
    {
     "data": {
      "image/png": "[encoded data removed]",
      "text/plain": [
       "<Figure size 640x480 with 1 Axes>"
      ]
     },
     "metadata": {},
     "output_type": "display_data"
    }
   ],
   "source": [
    "# Örnek veriler\n",
    "categories = [\"B\",\"O\",\"C\"]\n",
    "values = [q_total_list[0],q_total_list[3],q_total_list[4]]\n",
    "\n",
    "# Bar plot\n",
    "plt.bar(categories, values)\n",
    "\n",
    "# Başlık ve etiketler\n",
    "plt.title(\"Category Distribution\")\n",
    "plt.xlabel(\"Categories\")\n",
    "plt.ylabel(\"Values\")\n",
    "\n",
    "# Göster\n",
    "plt.show()"
   ]
  },
  {
   "cell_type": "code",
   "execution_count": 78,
   "id": "f72626c1-d798-4d2b-89db-b7b0cd599a00",
   "metadata": {
    "execution": {
     "iopub.execute_input": "2025-05-24T21:23:03.454138Z",
     "iopub.status.busy": "2025-05-24T21:23:03.453683Z",
     "iopub.status.idle": "2025-05-24T21:23:03.786501Z",
     "shell.execute_reply": "2025-05-24T21:23:03.784298Z",
     "shell.execute_reply.started": "2025-05-24T21:23:03.454103Z"
    }
   },
   "outputs": [
    {
     "data": {
      "image/png": "[encoded data removed]",
      "text/plain": [
       "<Figure size 640x480 with 1 Axes>"
      ]
     },
     "metadata": {},
     "output_type": "display_data"
    }
   ],
   "source": [
    "import matplotlib.pyplot as plt\n",
    "import numpy as np\n",
    "\n",
    "# 3 kişi örneği için her katkı listesi (her biri 3 elemanlı)\n",
    "\n",
    "q_radi_lists   = []\n",
    "q_conv_lists   = []\n",
    "q_c_resp_lists = []\n",
    "q_e_skin_lists = []\n",
    "q_e_resp_lists = []\n",
    "\n",
    "for i in [0,3,4]:\n",
    "    q_radi_lists.append(q_radi_list[i])\n",
    "    q_conv_lists.append(q_conv_list[i])\n",
    "    q_c_resp_lists.append(q_c_resp_list[i])\n",
    "    q_e_skin_lists.append(q_e_skin_list[i])\n",
    "    q_e_resp_lists.append(q_e_resp_list[i])\n",
    "\n",
    "\n",
    "# Kişi etiketleri\n",
    "persons = ['Bastien', 'Osman', 'Capucine']\n",
    "\n",
    "# Bar pozisyonları\n",
    "x = np.arange(len(persons))\n",
    "\n",
    "# İlk katmanı çiz\n",
    "plt.bar(x, q_radi_lists, label='Radiative', color='blue')\n",
    "\n",
    "# Her katmanın üstüne bir sonrakini çiz (stack)\n",
    "plt.bar(x, q_conv_lists, bottom=q_radi_lists, label='Convective', color='orange')\n",
    "\n",
    "bottom2 = np.array(q_radi_lists) + np.array(q_conv_lists)\n",
    "plt.bar(x, q_c_resp_lists, bottom=bottom2, label='Respiratory Conv.', color='green')\n",
    "\n",
    "bottom3 = bottom2 + np.array(q_c_resp_lists)\n",
    "plt.bar(x, q_e_skin_lists, bottom=bottom3, label='Evaporation (Skin)', color='red')\n",
    "\n",
    "bottom4 = bottom3 + np.array(q_e_skin_lists)\n",
    "plt.bar(x, q_e_resp_lists, bottom=bottom4, label='Evaporation (Resp.)', color='purple')\n",
    "\n",
    "# Ayarlar\n",
    "plt.xticks(x, persons)\n",
    "plt.ylabel(\"Heat Loss (W)\")\n",
    "plt.title(\"Heat Loss Breakdown per Person\")\n",
    "plt.legend()\n",
    "\n",
    "plt.tight_layout()\n",
    "plt.show()"
   ]
  },
  {
   "cell_type": "markdown",
   "id": "bd2485ab-c0bc-4953-8751-543cfbb2bf9d",
   "metadata": {},
   "source": [
    "### New Part"
   ]
  },
  {
   "cell_type": "code",
   "execution_count": 1,
   "id": "9b93f528-af97-49aa-8901-fb279e5b873a",
   "metadata": {
    "execution": {
     "iopub.execute_input": "2025-05-29T20:35:50.523595Z",
     "iopub.status.busy": "2025-05-29T20:35:50.522504Z",
     "iopub.status.idle": "2025-05-29T20:35:52.767007Z",
     "shell.execute_reply": "2025-05-29T20:35:52.764914Z",
     "shell.execute_reply.started": "2025-05-29T20:35:50.523508Z"
    }
   },
   "outputs": [],
   "source": [
    "# Your libraries here\n",
    "import re\n",
    "import math\n",
    "import numpy as np\n",
    "import pandas as pd\n",
    "import seaborn as sns\n",
    "import matplotlib.pyplot as plt\n",
    "# tells matplotlib to embed plots within the notebook\n",
    "%matplotlib inline"
   ]
  },
  {
   "cell_type": "code",
   "execution_count": null,
   "id": "d96f9b35-60de-4fc5-9423-24111b60d532",
   "metadata": {},
   "outputs": [],
   "source": []
  }
 ],
 "metadata": {
  "kernelspec": {
   "display_name": "Python3",
   "language": "python",
   "name": "python3"
  },
  "language_info": {
   "codemirror_mode": {
    "name": "ipython",
    "version": 3
   },
   "file_extension": ".py",
   "mimetype": "text/x-python",
   "name": "python",
   "nbconvert_exporter": "python",
   "pygments_lexer": "ipython3",
   "version": "3.12.5"
  }
 },
 "nbformat": 4,
 "nbformat_minor": 5
}
