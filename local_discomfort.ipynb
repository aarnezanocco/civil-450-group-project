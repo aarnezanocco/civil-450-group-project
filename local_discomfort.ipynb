{
 "cells": [
  {
   "cell_type": "code",
   "execution_count": 1,
   "metadata": {},
   "outputs": [],
   "source": [
    "import pandas as pd\n",
    "import numpy as np"
   ]
  },
  {
   "cell_type": "code",
   "execution_count": 6,
   "metadata": {},
   "outputs": [],
   "source": [
    "HOBO_low = pd.read_csv(\"HOBO\\Group3-Low.csv\", encoding=\"windows-1252\")\n",
    "HOBO_mid = pd.read_csv(\"HOBO\\Group3-Mid.csv\", encoding=\"windows-1252\")\n",
    "HOBO_top = pd.read_csv(\"HOBO\\Group3-Top.csv\", encoding=\"windows-1252\")\n",
    "CUBE = CUBE = pd.read_excel(\"CUBE\\Group 3-Cube.xlsx\")"
   ]
  },
  {
   "cell_type": "code",
   "execution_count": null,
   "metadata": {},
   "outputs": [],
   "source": [
    "v_a_low = HOBO_low.iloc[:, 3]\n",
    "v_a_mid = HOBO_mid.iloc[:, 3]\n",
    "v_a_top = HOBO_top.iloc[:, 3]"
   ]
  },
  {
   "cell_type": "code",
   "execution_count": null,
   "metadata": {},
   "outputs": [],
   "source": [
    "def draught_rate_comfort(v_ave, t_op, interval):\n",
    "    DR_standards = np.zeros(len(v_ave), 3)\n",
    "    for i in range(len(v_ave-interval)):\n",
    "\n",
    "        v_sum_squared = 0\n",
    "        v_rms = 0\n",
    "        for j in range(interval):\n",
    "            v_sum_squared += v_ave[i+j]*v_ave[i+j]\n",
    "        v_rms = ((1/interval)*v_sum_squared)**0.5\n",
    "        for j in range(interval):\n",
    "            TU = v_rms/v_ave[i+j]\n",
    "            DR_standards[0,i+j] = (34 - t_op[i+j])*((v_ave[i+j]-0.05)**0.62)*(0.37*v_ave[i+j]*TU+3.14)\n",
    "        i = i + interval\n",
    "\n",
    "        for k in range(len(v_ave)):\n",
    "            if DR_standards[0,k] <= 10:\n",
    "                DR_standards[2,k] = \"Cat I\"\n",
    "            elif DR_standards[0,k] <= 20:\n",
    "                DR_standards[2,k] = \"Cat II\"\n",
    "            elif DR_standards[0,k] <= 30:\n",
    "                DR_standards[2,k] = \"Cat III\"\n",
    "            else:\n",
    "                DR_standards[2,k] = \"X\"\n",
    "\n",
    "        for k in range(len(v_ave)):\n",
    "            if DR_standards[0,k] <= 20:\n",
    "                DR_standards[1,k] = \"ok\"\n",
    "            else:\n",
    "                DR_standards[1,k] = \"X\"\n",
    "\n",
    "    return DR_standards\n",
    "\n",
    "    "
   ]
  },
  {
   "cell_type": "code",
   "execution_count": null,
   "metadata": {},
   "outputs": [],
   "source": [
    "Tpr_north = CUBE.iloc[:,4]\n",
    "Tpr_south = CUBE.iloc[:,6]\n",
    "Tpr_east = CUBE.iloc[:,5]\n",
    "Tpr_west = CUBE.iloc[:,7]\n",
    "Tpr_up = CUBE.iloc[:,3]\n",
    "Tpr_down = CUBE.iloc[:,8]"
   ]
  },
  {
   "cell_type": "code",
   "execution_count": null,
   "metadata": {},
   "outputs": [],
   "source": [
    "def radiant_temperature_asymmetry_comfort(n, s, e, w, u, d):\n",
    "    DT_ns = []\n",
    "    DT_ew = []\n",
    "    DT_ud = []\n",
    "    for i in range(len(n)):\n",
    "        DT_ns.append(n[i] - s[i])\n",
    "        DT_ew.append(e[i] - w[i])\n",
    "        DT_ud.append(u[i] - d[i])\n",
    "    "
   ]
  }
 ],
 "metadata": {
  "kernelspec": {
   "display_name": "Python 3",
   "language": "python",
   "name": "python3"
  },
  "language_info": {
   "codemirror_mode": {
    "name": "ipython",
    "version": 3
   },
   "file_extension": ".py",
   "mimetype": "text/x-python",
   "name": "python",
   "nbconvert_exporter": "python",
   "pygments_lexer": "ipython3",
   "version": "3.11.9"
  }
 },
 "nbformat": 4,
 "nbformat_minor": 2
}
